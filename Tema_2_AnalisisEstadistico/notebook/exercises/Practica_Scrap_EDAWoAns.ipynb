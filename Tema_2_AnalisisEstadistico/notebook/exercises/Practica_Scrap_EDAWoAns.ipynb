{
  "nbformat": 4,
  "nbformat_minor": 0,
  "metadata": {
    "kernelspec": {
      "display_name": "Python 3",
      "language": "python",
      "name": "python3"
    },
    "language_info": {
      "codemirror_mode": {
        "name": "ipython",
        "version": 3
      },
      "file_extension": ".py",
      "mimetype": "text/x-python",
      "name": "python",
      "nbconvert_exporter": "python",
      "pygments_lexer": "ipython3",
      "version": "3.7.6"
    },
    "colab": {
      "name": "Practica_Scrap_EDAWoAns.ipynb",
      "provenance": [],
      "include_colab_link": true
    }
  },
  "cells": [
    {
      "cell_type": "markdown",
      "metadata": {
        "id": "view-in-github",
        "colab_type": "text"
      },
      "source": [
        "<a href=\"https://colab.research.google.com/github/jorgeprs/Numpy_p1/blob/main/Tema_2_AnalisisEstadistico/notebook/exercises/Practica_Scrap_EDAWoAns.ipynb\" target=\"_parent\"><img src=\"https://colab.research.google.com/assets/colab-badge.svg\" alt=\"Open In Colab\"/></a>"
      ]
    },
    {
      "cell_type": "markdown",
      "metadata": {
        "id": "4wVM-t669NcG"
      },
      "source": [
        "[![Open In Colab](https://colab.research.google.com/assets/colab-badge.svg)](https://colab.research.google.com/github/MauricioRR-Tec/AprendizajeAutomatico/blob/master/Tema_2_AnalisisEstadistico/notebook/exercises/Practica_Scrap_EDAWoAns.ipynb)"
      ]
    },
    {
      "cell_type": "markdown",
      "metadata": {
        "id": "d-8nxYk_9NcL"
      },
      "source": [
        "<h1><center>Práctica de Módulo 2</center><h1>"
      ]
    },
    {
      "cell_type": "markdown",
      "metadata": {
        "id": "M7YKSiRo9NcM"
      },
      "source": [
        "## ¿Qué es web scrapping?\n",
        "\n",
        "Es una técnica para recuperar grandes cantidades de datos de Internet.\n",
        "\n",
        "-----\n",
        "\n",
        "Existen diferentes técnicas como Scrappy, BeautifulSoup, etc. La librería más común es BeautifulSoup. \n",
        "\n",
        "Extrae la página Html de cualquier sitio web. Los datos almacenados por web Scrapping son un formato no estructurado. Convertimos los datos no estructurados en estructurados para el análisis y la exploración de datos.\n",
        "\n",
        "------\n",
        "\n",
        "### Bibliotecas utilizadas para Web Scraping\n",
        "\n",
        "Como sabemos, Python se usa para varias aplicaciones y existen diferentes bibliotecas para diferentes propósitos. En nuestra demostración adicional, usaremos las siguientes bibliotecas:\n",
        "\n",
        "   * BeautifulSoup: Beautiful Soup es un paquete de Python para analizar documentos HTML y XML. Crea árboles de análisis que son útiles para extraer los datos fácilmente.\n",
        "   * Pandas: Pandas es una biblioteca que se utiliza para la manipulación y el análisis de datos. Se utiliza para extraer los datos y almacenarlos en el formato deseado.\n",
        "   * Utilice matplotlib y seaborn para la visualización de datos"
      ]
    },
    {
      "cell_type": "markdown",
      "metadata": {
        "id": "AM4huCKx9NcO"
      },
      "source": [
        "------\n",
        "### ¿Cómo funciona el Web Scraping?\n",
        "\n",
        "Cuando ejecuta el código para web scraping, se envía una solicitud a la URL que ha mencionado. Como respuesta a la solicitud, el servidor envía los datos y le permite leer la página HTML o XML. Luego, el código analiza la página HTML o XML, encuentra los datos y los extrae.\n",
        "\n",
        "Para extraer datos utilizando web scraping con Python, debe seguir estos pasos básicos:\n",
        "\n",
        "   * Busque la URL que desea raspar\n",
        "   * Inspecciona la página\n",
        "   * Encuentra los datos que quieres extraer\n",
        "   * Escribe el codigo\n",
        "   * Ejecute el código y extraiga los datos\n",
        "   * Almacene los datos en el formato requerido\n",
        "\n",
        "------"
      ]
    },
    {
      "cell_type": "markdown",
      "metadata": {
        "id": "Da4Btwq-9NcP"
      },
      "source": [
        "-------\n",
        "\n",
        "### Datos del sitio web de Flipkart\n",
        "\n",
        "Para comprobar cuál debería ser el precio óptimo de nuestro producto, estos precios pueden variar mucho. Entonces, vamos a mostrar cómo podemos obtener información relacionada con un producto en particular (computadora portátil).\n",
        "\n",
        "Primero, importemos todas las bibliotecas necesarias:"
      ]
    },
    {
      "cell_type": "code",
      "metadata": {
        "id": "_xAo-hFR9NcQ"
      },
      "source": [
        "import requests\n",
        "import pandas as pd\n",
        "from bs4 import BeautifulSoup"
      ],
      "execution_count": 1,
      "outputs": []
    },
    {
      "cell_type": "markdown",
      "metadata": {
        "id": "kSqIUfxh9NcR"
      },
      "source": [
        "Los datos que extraemos son datos no estructurados. Por eso, crearemos listas vacías para almacenarlas de forma estructurada"
      ]
    },
    {
      "cell_type": "code",
      "metadata": {
        "id": "C99ouBWf9NcR"
      },
      "source": [
        "name=[]\n",
        "prices=[]\n",
        "ratings=[]\n",
        "df = pd.DataFrame()"
      ],
      "execution_count": 2,
      "outputs": []
    },
    {
      "cell_type": "markdown",
      "metadata": {
        "id": "YPyWYTjh9NcT"
      },
      "source": [
        "## Paso 1: busque la URL\n",
        "\n",
        "Para este ejemplo, vamos a **raspar** (Scrap) el sitio web de **Flipkart** para extraer el nombre, el precio y la calificación de las computadoras portátiles. La URL de esta página es:\n",
        "\n",
        "[Flipkart](https://www.flipkart.com/search?q=laptops&otracker=search&otracker1=search&marketplace=FLIPKART&as-show=on&as=off&as-pos=1&as-type=HISTORY.)"
      ]
    },
    {
      "cell_type": "code",
      "metadata": {
        "id": "fN36EBZe9NcX"
      },
      "source": [
        "url=\"https://www.flipkart.com/search?q=laptops&otracker=search&otracker1=search&marketplace=FLIPKART&as-show=on&as=off&as-pos=1&as-type=HISTORY.\""
      ],
      "execution_count": 3,
      "outputs": []
    },
    {
      "cell_type": "code",
      "metadata": {
        "id": "Jird_knx9NcY"
      },
      "source": [
        "response = requests.get(url)"
      ],
      "execution_count": 4,
      "outputs": []
    },
    {
      "cell_type": "code",
      "metadata": {
        "id": "-j3eLfBP9NcY"
      },
      "source": [
        "# Analizar sintácticamente el archivo HTML de BeautifulSoup del texto fuente\n",
        "soup = BeautifulSoup(response.text, 'html.parser')"
      ],
      "execution_count": 11,
      "outputs": []
    },
    {
      "cell_type": "code",
      "metadata": {
        "id": "tfJKkUnO9NcZ",
        "outputId": "7981a015-6ef4-4e1a-9582-a423c8e9deee",
        "colab": {
          "base_uri": "https://localhost:8080/"
        }
      },
      "source": [
        "response"
      ],
      "execution_count": 9,
      "outputs": [
        {
          "output_type": "execute_result",
          "data": {
            "text/plain": [
              "<Response [200]>"
            ]
          },
          "metadata": {},
          "execution_count": 9
        }
      ]
    },
    {
      "cell_type": "markdown",
      "metadata": {
        "id": "OgM7TOio9Nca"
      },
      "source": [
        "### Paso 2: inspección de la página\n",
        "\n",
        "Los datos suelen estar anidados en etiquetas. Entonces, inspeccionamos la página para ver, bajo qué etiqueta están anidados los datos que queremos raspar. Para inspeccionar la página, simplemente haga clic derecho en el elemento y haga clic en \"Inspeccionar\" (o F12)."
      ]
    },
    {
      "cell_type": "markdown",
      "metadata": {
        "id": "qvrAW3H09Ncb"
      },
      "source": [
        "![img](https://miro.medium.com/max/571/0*TF2VBxPanqhxb-hY.png)"
      ]
    },
    {
      "cell_type": "markdown",
      "metadata": {
        "id": "s67AdWx29Ncb"
      },
      "source": [
        "### Paso 3: busque los datos que desea extraer\n",
        "\n",
        "Extraigamos el nombre, precio y calificación que están anidados en la etiqueta \"div\" respectivamente.\n",
        "\n",
        "Por lo general, nos confundiremos sobre qué etiqueta necesitamos copiar para esta computadora portátil. Podemos usar https://webformatter.com/ para filtrar la etiqueta por el nombre, el precio y la calificación, y podemos copiar fácilmente con esta herramienta.\n",
        "\n",
        "Ahora que hemos escrito el código para abrir la URL, es hora de extraer los datos del sitio web. Como se mencionó anteriormente, los datos que queremos extraer están anidados en etiquetas <div>. Entonces, encontraremos las etiquetas div con esos respectivos nombres de clase, extraeremos y almacenaremos los datos en una variable. Consulte el código a continuación:"
      ]
    },
    {
      "cell_type": "code",
      "metadata": {
        "id": "lVkVzs5Z9Ncb"
      },
      "source": [
        ""
      ],
      "execution_count": 6,
      "outputs": []
    },
    {
      "cell_type": "code",
      "metadata": {
        "id": "KkfjlaLK9Ncc"
      },
      "source": [
        "main_box=soup.find_all( \"div\",class_=\"_3pLy-c row\")"
      ],
      "execution_count": 26,
      "outputs": []
    },
    {
      "cell_type": "code",
      "metadata": {
        "id": "0-adXJUL9Ncc",
        "outputId": "177ca16a-b4c4-4c9b-bfab-542bd4569f74",
        "colab": {
          "base_uri": "https://localhost:8080/"
        }
      },
      "source": [
        "len(main_box)"
      ],
      "execution_count": 28,
      "outputs": [
        {
          "output_type": "execute_result",
          "data": {
            "text/plain": [
              "24"
            ]
          },
          "metadata": {},
          "execution_count": 28
        }
      ]
    },
    {
      "cell_type": "code",
      "metadata": {
        "id": "I_xSQKPz9Ncd"
      },
      "source": [
        "box=main_box[0]"
      ],
      "execution_count": 44,
      "outputs": []
    },
    {
      "cell_type": "code",
      "metadata": {
        "colab": {
          "base_uri": "https://localhost:8080/"
        },
        "id": "wJpdRKsg9Ncd",
        "outputId": "f770c32c-4357-4512-e993-21f8bf3b7369"
      },
      "source": [
        "box"
      ],
      "execution_count": 45,
      "outputs": [
        {
          "output_type": "execute_result",
          "data": {
            "text/plain": [
              "<div class=\"_3pLy-c row\"><div class=\"col col-7-12\"><div class=\"_4rR01T\">Lenovo Ideapad Slim 3i (2021) Core i5 11th Gen - (8 GB/256 GB SSD/Windows 10 Home) 15ITL6 Thin and Lig...</div><div class=\"gUuXy-\"><span class=\"_1lRcqv\" id=\"productRating_LSTCOMG36BSUKGYMGKDSRV2LQ_COMG36BSUKGYMGKD_\"><div class=\"_3LWZlK\">3.9<img class=\"_1wB99o\" src=\"data:image/svg+xml;base64,PHN2ZyB4bWxucz0iaHR0cDovL3d3dy53My5vcmcvMjAwMC9zdmciIHdpZHRoPSIxMyIgaGVpZ2h0PSIxMiI+PHBhdGggZmlsbD0iI0ZGRiIgZD0iTTYuNSA5LjQzOWwtMy42NzQgMi4yMy45NC00LjI2LTMuMjEtMi44ODMgNC4yNTQtLjQwNEw2LjUuMTEybDEuNjkgNC4wMSA0LjI1NC40MDQtMy4yMSAyLjg4Mi45NCA0LjI2eiIvPjwvc3ZnPg==\"/></div></span><span class=\"_2_R_DZ\"><span><span>9 Ratings </span><span class=\"_13vcmD\">&amp;</span><span> 2 Reviews</span></span></span></div><div class=\"fMghEO\"><ul class=\"_1xgFaf\"><li class=\"rgWa7D\">Intel Core i5 Processor (11th Gen)</li><li class=\"rgWa7D\">8 GB DDR4 RAM</li><li class=\"rgWa7D\">64 bit Windows 10 Operating System</li><li class=\"rgWa7D\">256 GB SSD</li><li class=\"rgWa7D\">39.62 cm (15.6 inch) Display</li><li class=\"rgWa7D\">Microsoft Office Home and Student 2019</li><li class=\"rgWa7D\">1 Year Onsite Warranty</li></ul></div></div><div class=\"col col-5-12 nlI3QM\"><div class=\"_3tbKJL\"><div class=\"_25b18c\"><div class=\"_30jeq3 _1_WHN1\">₹54,990</div><div class=\"_3I9_wc _27UcVY\">₹<!-- -->78,290</div><div class=\"_3Ay6Sb\"><span>29% off</span></div></div></div><div class=\"_13J9qT\"><img height=\"21\" src=\"//static-assets-web.flixcart.com/www/linchpin/fk-cp-zion/img/fa_62673a.png\"/></div><div class=\"_2ZdXDB\"><div class=\"_3xFhiH\"><div class=\"_2Tpdn3 _18hQoS\" style=\"color:#000000;font-size:12px;font-style:normal;font-weight:400\">No Cost EMI from ₹9,165/month</div></div></div></div></div>"
            ]
          },
          "metadata": {},
          "execution_count": 45
        }
      ]
    },
    {
      "cell_type": "code",
      "metadata": {
        "id": "F733hQQH9Nce"
      },
      "source": [
        "title = box.find('div',class_=\"_4rR01T\")\n",
        "rating = box.find(\"div\", class_=\"_3LWZlK\")\n",
        "price = box.find(\"text\", class_=\"_30jeq3\")"
      ],
      "execution_count": 46,
      "outputs": []
    },
    {
      "cell_type": "code",
      "metadata": {
        "id": "54Meezyh9Nce",
        "outputId": "e8a722cb-a90c-4d9d-f340-87a7fa7538ef",
        "colab": {
          "base_uri": "https://localhost:8080/"
        }
      },
      "source": [
        "print(title,price,rating)"
      ],
      "execution_count": 47,
      "outputs": [
        {
          "output_type": "stream",
          "name": "stdout",
          "text": [
            "<div class=\"_4rR01T\">Lenovo Ideapad Slim 3i (2021) Core i5 11th Gen - (8 GB/256 GB SSD/Windows 10 Home) 15ITL6 Thin and Lig...</div> None <div class=\"_3LWZlK\">3.9<img class=\"_1wB99o\" src=\"data:image/svg+xml;base64,PHN2ZyB4bWxucz0iaHR0cDovL3d3dy53My5vcmcvMjAwMC9zdmciIHdpZHRoPSIxMyIgaGVpZ2h0PSIxMiI+PHBhdGggZmlsbD0iI0ZGRiIgZD0iTTYuNSA5LjQzOWwtMy42NzQgMi4yMy45NC00LjI2LTMuMjEtMi44ODMgNC4yNTQtLjQwNEw2LjUuMTEybDEuNjkgNC4wMSA0LjI1NC40MDQtMy4yMSAyLjg4Mi45NCA0LjI2eiIvPjwvc3ZnPg==\"/></div>\n"
          ]
        }
      ]
    },
    {
      "cell_type": "code",
      "metadata": {
        "cellView": "code",
        "id": "uXH32h8a9Ncf"
      },
      "source": [
        "#@title Texto de título predeterminado\n",
        "data_list=[]\n",
        "for box in main_box:\n",
        "    title = box.find('div',class_=\"_4rR01T\")\n",
        "    rating = box.find(\"div\", class_=\"_3LWZlK\")\n",
        "    price = box.find(\"div\", class_=\"_30jeq3\")\n",
        "    temp_dict=[title,rating, price]\n",
        "    data_list.append(temp_dict)\n",
        "\n",
        "data_list\n",
        "  "
      ],
      "execution_count": null,
      "outputs": []
    },
    {
      "cell_type": "code",
      "metadata": {
        "id": "t0Za60zQkC1k"
      },
      "source": [
        ""
      ],
      "execution_count": null,
      "outputs": []
    },
    {
      "cell_type": "markdown",
      "metadata": {
        "id": "KfJ11Plz9Ncf"
      },
      "source": [
        "### Paso 4: Crear un dataframe y guardar los datos en csv\n",
        "\n",
        "Después de extraer los datos, es posible que desee almacenarlos en un formato. Este formato varía según sus necesidades. Para este ejemplo, almacenaremos los datos extraídos en formato CSV (valores separados por comas). Para hacer esto, agregaré las siguientes líneas a mi código:"
      ]
    },
    {
      "cell_type": "code",
      "metadata": {
        "id": "dozkeheV9Ncf"
      },
      "source": [
        "#completa"
      ],
      "execution_count": null,
      "outputs": []
    },
    {
      "cell_type": "code",
      "metadata": {
        "id": "LTdBiWV_9Ncg",
        "outputId": "94ae8873-133a-4855-cb42-397f4c57af33"
      },
      "source": [
        "#completa"
      ],
      "execution_count": null,
      "outputs": [
        {
          "data": {
            "text/html": [
              "<div>\n",
              "<style scoped>\n",
              "    .dataframe tbody tr th:only-of-type {\n",
              "        vertical-align: middle;\n",
              "    }\n",
              "\n",
              "    .dataframe tbody tr th {\n",
              "        vertical-align: top;\n",
              "    }\n",
              "\n",
              "    .dataframe thead th {\n",
              "        text-align: right;\n",
              "    }\n",
              "</style>\n",
              "<table border=\"1\" class=\"dataframe\">\n",
              "  <thead>\n",
              "    <tr style=\"text-align: right;\">\n",
              "      <th></th>\n",
              "      <th>title</th>\n",
              "      <th>rating</th>\n",
              "      <th>price</th>\n",
              "    </tr>\n",
              "  </thead>\n",
              "  <tbody>\n",
              "    <tr>\n",
              "      <th>0</th>\n",
              "      <td>Acer One 14 Pentium Gold - (4 GB/1 TB HDD/Wind...</td>\n",
              "      <td>4</td>\n",
              "      <td>23,990</td>\n",
              "    </tr>\n",
              "    <tr>\n",
              "      <th>1</th>\n",
              "      <td>Apple MacBook Pro Core i5 8th Gen - (8 GB/512 ...</td>\n",
              "      <td>4.4</td>\n",
              "      <td>1,21,500</td>\n",
              "    </tr>\n",
              "    <tr>\n",
              "      <th>2</th>\n",
              "      <td>Dell Inspiron 3505 Ryzen 3 Dual Core 3250U - (...</td>\n",
              "      <td>4.3</td>\n",
              "      <td>34,790</td>\n",
              "    </tr>\n",
              "    <tr>\n",
              "      <th>3</th>\n",
              "      <td>HP 14 Core i5 10th Gen - (8 GB/512 GB SSD/Wind...</td>\n",
              "      <td>4.3</td>\n",
              "      <td>47,990</td>\n",
              "    </tr>\n",
              "    <tr>\n",
              "      <th>4</th>\n",
              "      <td>Asus Core i3 10th Gen - (8 GB/1 TB HDD/Windows...</td>\n",
              "      <td>4.5</td>\n",
              "      <td>34,990</td>\n",
              "    </tr>\n",
              "    <tr>\n",
              "      <th>5</th>\n",
              "      <td>Asus VivoBook 15 Core i5 10th Gen - (8 GB/1 TB...</td>\n",
              "      <td>4</td>\n",
              "      <td>42,990</td>\n",
              "    </tr>\n",
              "    <tr>\n",
              "      <th>6</th>\n",
              "      <td>HP 15s Ryzen 3 Dual Core 3250U - (8 GB/1 TB HD...</td>\n",
              "      <td>4.5</td>\n",
              "      <td>34,990</td>\n",
              "    </tr>\n",
              "    <tr>\n",
              "      <th>7</th>\n",
              "      <td>HP 15s Ryzen 3 Dual Core 3250U - (4 GB/1 TB HD...</td>\n",
              "      <td>4.3</td>\n",
              "      <td>30,990</td>\n",
              "    </tr>\n",
              "    <tr>\n",
              "      <th>8</th>\n",
              "      <td>Lenovo Ideapad S145 Ryzen 5 Quad Core 3500U - ...</td>\n",
              "      <td>4.2</td>\n",
              "      <td>42,990</td>\n",
              "    </tr>\n",
              "    <tr>\n",
              "      <th>9</th>\n",
              "      <td>Lenovo Ideapad Gaming 3 Ryzen 5 Hexa Core 4600...</td>\n",
              "      <td>4.5</td>\n",
              "      <td>59,990</td>\n",
              "    </tr>\n",
              "    <tr>\n",
              "      <th>10</th>\n",
              "      <td>Lenovo Ideapad S145 Core i3 10th Gen - (4 GB/2...</td>\n",
              "      <td>4.3</td>\n",
              "      <td>32,990</td>\n",
              "    </tr>\n",
              "    <tr>\n",
              "      <th>11</th>\n",
              "      <td>Lenovo Ideapad S145 APU Dual Core A6 A6-9225 -...</td>\n",
              "      <td>4</td>\n",
              "      <td>24,990</td>\n",
              "    </tr>\n",
              "    <tr>\n",
              "      <th>12</th>\n",
              "      <td>HP 15s Celeron Dual Core - (4 GB/1 TB HDD/Wind...</td>\n",
              "      <td>4</td>\n",
              "      <td>23,990</td>\n",
              "    </tr>\n",
              "    <tr>\n",
              "      <th>13</th>\n",
              "      <td>Mi Notebook 14 Core i5 10th Gen - (8 GB/512 GB...</td>\n",
              "      <td>4.3</td>\n",
              "      <td>44,999</td>\n",
              "    </tr>\n",
              "    <tr>\n",
              "      <th>14</th>\n",
              "      <td>Lenovo Ideapad 3 Core i5 10th Gen - (8 GB/1 TB...</td>\n",
              "      <td>4.1</td>\n",
              "      <td>43,990</td>\n",
              "    </tr>\n",
              "    <tr>\n",
              "      <th>15</th>\n",
              "      <td>Dell Inspiron 3501 Core i5 11th Gen - (8 GB/1 ...</td>\n",
              "      <td>4.7</td>\n",
              "      <td>62,690</td>\n",
              "    </tr>\n",
              "    <tr>\n",
              "      <th>16</th>\n",
              "      <td>Lenovo Ideapad 3 Athlon Dual Core 3050U - (4 G...</td>\n",
              "      <td>4</td>\n",
              "      <td>25,990</td>\n",
              "    </tr>\n",
              "    <tr>\n",
              "      <th>17</th>\n",
              "      <td>HP 15 Ryzen 3 Dual Core 3200U - (4 GB/1 TB HDD...</td>\n",
              "      <td>4.1</td>\n",
              "      <td>31,490</td>\n",
              "    </tr>\n",
              "    <tr>\n",
              "      <th>18</th>\n",
              "      <td>HP 14s Core i3 10th Gen - (8 GB/256 GB SSD/Win...</td>\n",
              "      <td>4.2</td>\n",
              "      <td>36,990</td>\n",
              "    </tr>\n",
              "    <tr>\n",
              "      <th>19</th>\n",
              "      <td>LifeDigital Zed Core i3 5th Gen - (4 GB/1 TB H...</td>\n",
              "      <td>3.7</td>\n",
              "      <td>26,990</td>\n",
              "    </tr>\n",
              "    <tr>\n",
              "      <th>20</th>\n",
              "      <td>Lenovo Ideapad 3 Core i3 10th Gen - (4 GB/1 TB...</td>\n",
              "      <td>3.8</td>\n",
              "      <td>33,490</td>\n",
              "    </tr>\n",
              "    <tr>\n",
              "      <th>21</th>\n",
              "      <td>Lenovo Legion Y540 Core i5 9th Gen - (8 GB/1 T...</td>\n",
              "      <td>4.5</td>\n",
              "      <td>63,990</td>\n",
              "    </tr>\n",
              "    <tr>\n",
              "      <th>22</th>\n",
              "      <td>Asus Celeron Dual Core - (4 GB/1 TB HDD/Window...</td>\n",
              "      <td>3.9</td>\n",
              "      <td>21,990</td>\n",
              "    </tr>\n",
              "    <tr>\n",
              "      <th>23</th>\n",
              "      <td>Dell Inspiron Core i5 10th Gen - (8 GB/512 GB ...</td>\n",
              "      <td>4.3</td>\n",
              "      <td>61,990</td>\n",
              "    </tr>\n",
              "  </tbody>\n",
              "</table>\n",
              "</div>"
            ],
            "text/plain": [
              "                                                title rating     price\n",
              "0   Acer One 14 Pentium Gold - (4 GB/1 TB HDD/Wind...      4    23,990\n",
              "1   Apple MacBook Pro Core i5 8th Gen - (8 GB/512 ...    4.4  1,21,500\n",
              "2   Dell Inspiron 3505 Ryzen 3 Dual Core 3250U - (...    4.3    34,790\n",
              "3   HP 14 Core i5 10th Gen - (8 GB/512 GB SSD/Wind...    4.3    47,990\n",
              "4   Asus Core i3 10th Gen - (8 GB/1 TB HDD/Windows...    4.5    34,990\n",
              "5   Asus VivoBook 15 Core i5 10th Gen - (8 GB/1 TB...      4    42,990\n",
              "6   HP 15s Ryzen 3 Dual Core 3250U - (8 GB/1 TB HD...    4.5    34,990\n",
              "7   HP 15s Ryzen 3 Dual Core 3250U - (4 GB/1 TB HD...    4.3    30,990\n",
              "8   Lenovo Ideapad S145 Ryzen 5 Quad Core 3500U - ...    4.2    42,990\n",
              "9   Lenovo Ideapad Gaming 3 Ryzen 5 Hexa Core 4600...    4.5    59,990\n",
              "10  Lenovo Ideapad S145 Core i3 10th Gen - (4 GB/2...    4.3    32,990\n",
              "11  Lenovo Ideapad S145 APU Dual Core A6 A6-9225 -...      4    24,990\n",
              "12  HP 15s Celeron Dual Core - (4 GB/1 TB HDD/Wind...      4    23,990\n",
              "13  Mi Notebook 14 Core i5 10th Gen - (8 GB/512 GB...    4.3    44,999\n",
              "14  Lenovo Ideapad 3 Core i5 10th Gen - (8 GB/1 TB...    4.1    43,990\n",
              "15  Dell Inspiron 3501 Core i5 11th Gen - (8 GB/1 ...    4.7    62,690\n",
              "16  Lenovo Ideapad 3 Athlon Dual Core 3050U - (4 G...      4    25,990\n",
              "17  HP 15 Ryzen 3 Dual Core 3200U - (4 GB/1 TB HDD...    4.1    31,490\n",
              "18  HP 14s Core i3 10th Gen - (8 GB/256 GB SSD/Win...    4.2    36,990\n",
              "19  LifeDigital Zed Core i3 5th Gen - (4 GB/1 TB H...    3.7    26,990\n",
              "20  Lenovo Ideapad 3 Core i3 10th Gen - (4 GB/1 TB...    3.8    33,490\n",
              "21  Lenovo Legion Y540 Core i5 9th Gen - (8 GB/1 T...    4.5    63,990\n",
              "22  Asus Celeron Dual Core - (4 GB/1 TB HDD/Window...    3.9    21,990\n",
              "23  Dell Inspiron Core i5 10th Gen - (8 GB/512 GB ...    4.3    61,990"
            ]
          },
          "execution_count": 16,
          "metadata": {},
          "output_type": "execute_result"
        }
      ]
    },
    {
      "cell_type": "code",
      "metadata": {
        "id": "3myLqaUj9Ncg"
      },
      "source": [
        "#completa(\"datos_compus.csv\", index=False, encoding='utf-8')"
      ],
      "execution_count": null,
      "outputs": []
    },
    {
      "cell_type": "markdown",
      "metadata": {
        "id": "wElK5hOV9Ncg"
      },
      "source": [
        "### Paso 5: Un poco de EDA y visualización de este archivo"
      ]
    },
    {
      "cell_type": "code",
      "metadata": {
        "id": "bmpWrISH9Nch"
      },
      "source": [
        "#completa"
      ],
      "execution_count": null,
      "outputs": []
    },
    {
      "cell_type": "code",
      "metadata": {
        "id": "-pxUmFVk9Nch"
      },
      "source": [
        "#completa = #completa.read_csv(\"C:/Users/beyon/Documents/GitHub/02 Analisis Estadistico/notebook/exercises/datos_compus.csv\", sep=None, thousands=',', engine='python')"
      ],
      "execution_count": null,
      "outputs": []
    },
    {
      "cell_type": "code",
      "metadata": {
        "id": "H-ursTVe9Nci",
        "outputId": "02140d72-e91f-4e3d-8149-05e87a69a132"
      },
      "source": [
        "#completa"
      ],
      "execution_count": null,
      "outputs": [
        {
          "data": {
            "text/html": [
              "<div>\n",
              "<style scoped>\n",
              "    .dataframe tbody tr th:only-of-type {\n",
              "        vertical-align: middle;\n",
              "    }\n",
              "\n",
              "    .dataframe tbody tr th {\n",
              "        vertical-align: top;\n",
              "    }\n",
              "\n",
              "    .dataframe thead th {\n",
              "        text-align: right;\n",
              "    }\n",
              "</style>\n",
              "<table border=\"1\" class=\"dataframe\">\n",
              "  <thead>\n",
              "    <tr style=\"text-align: right;\">\n",
              "      <th></th>\n",
              "      <th>title</th>\n",
              "      <th>rating</th>\n",
              "      <th>price</th>\n",
              "    </tr>\n",
              "  </thead>\n",
              "  <tbody>\n",
              "    <tr>\n",
              "      <th>0</th>\n",
              "      <td>Acer One 14 Pentium Gold - (4 GB/1 TB HDD/Wind...</td>\n",
              "      <td>4.0</td>\n",
              "      <td>23990</td>\n",
              "    </tr>\n",
              "    <tr>\n",
              "      <th>1</th>\n",
              "      <td>Apple MacBook Pro Core i5 8th Gen - (8 GB/512 ...</td>\n",
              "      <td>4.4</td>\n",
              "      <td>121500</td>\n",
              "    </tr>\n",
              "    <tr>\n",
              "      <th>2</th>\n",
              "      <td>Dell Inspiron 3505 Ryzen 3 Dual Core 3250U - (...</td>\n",
              "      <td>4.3</td>\n",
              "      <td>34790</td>\n",
              "    </tr>\n",
              "    <tr>\n",
              "      <th>3</th>\n",
              "      <td>HP 14 Core i5 10th Gen - (8 GB/512 GB SSD/Wind...</td>\n",
              "      <td>4.3</td>\n",
              "      <td>47990</td>\n",
              "    </tr>\n",
              "    <tr>\n",
              "      <th>4</th>\n",
              "      <td>Asus Core i3 10th Gen - (8 GB/1 TB HDD/Windows...</td>\n",
              "      <td>4.5</td>\n",
              "      <td>34990</td>\n",
              "    </tr>\n",
              "    <tr>\n",
              "      <th>5</th>\n",
              "      <td>Asus VivoBook 15 Core i5 10th Gen - (8 GB/1 TB...</td>\n",
              "      <td>4.0</td>\n",
              "      <td>42990</td>\n",
              "    </tr>\n",
              "    <tr>\n",
              "      <th>6</th>\n",
              "      <td>HP 15s Ryzen 3 Dual Core 3250U - (8 GB/1 TB HD...</td>\n",
              "      <td>4.5</td>\n",
              "      <td>34990</td>\n",
              "    </tr>\n",
              "    <tr>\n",
              "      <th>7</th>\n",
              "      <td>HP 15s Ryzen 3 Dual Core 3250U - (4 GB/1 TB HD...</td>\n",
              "      <td>4.3</td>\n",
              "      <td>30990</td>\n",
              "    </tr>\n",
              "    <tr>\n",
              "      <th>8</th>\n",
              "      <td>Lenovo Ideapad S145 Ryzen 5 Quad Core 3500U - ...</td>\n",
              "      <td>4.2</td>\n",
              "      <td>42990</td>\n",
              "    </tr>\n",
              "    <tr>\n",
              "      <th>9</th>\n",
              "      <td>Lenovo Ideapad Gaming 3 Ryzen 5 Hexa Core 4600...</td>\n",
              "      <td>4.5</td>\n",
              "      <td>59990</td>\n",
              "    </tr>\n",
              "    <tr>\n",
              "      <th>10</th>\n",
              "      <td>Lenovo Ideapad S145 Core i3 10th Gen - (4 GB/2...</td>\n",
              "      <td>4.3</td>\n",
              "      <td>32990</td>\n",
              "    </tr>\n",
              "    <tr>\n",
              "      <th>11</th>\n",
              "      <td>Lenovo Ideapad S145 APU Dual Core A6 A6-9225 -...</td>\n",
              "      <td>4.0</td>\n",
              "      <td>24990</td>\n",
              "    </tr>\n",
              "    <tr>\n",
              "      <th>12</th>\n",
              "      <td>HP 15s Celeron Dual Core - (4 GB/1 TB HDD/Wind...</td>\n",
              "      <td>4.0</td>\n",
              "      <td>23990</td>\n",
              "    </tr>\n",
              "    <tr>\n",
              "      <th>13</th>\n",
              "      <td>Mi Notebook 14 Core i5 10th Gen - (8 GB/512 GB...</td>\n",
              "      <td>4.3</td>\n",
              "      <td>44999</td>\n",
              "    </tr>\n",
              "    <tr>\n",
              "      <th>14</th>\n",
              "      <td>Lenovo Ideapad 3 Core i5 10th Gen - (8 GB/1 TB...</td>\n",
              "      <td>4.1</td>\n",
              "      <td>43990</td>\n",
              "    </tr>\n",
              "    <tr>\n",
              "      <th>15</th>\n",
              "      <td>Dell Inspiron 3501 Core i5 11th Gen - (8 GB/1 ...</td>\n",
              "      <td>4.7</td>\n",
              "      <td>62690</td>\n",
              "    </tr>\n",
              "    <tr>\n",
              "      <th>16</th>\n",
              "      <td>Lenovo Ideapad 3 Athlon Dual Core 3050U - (4 G...</td>\n",
              "      <td>4.0</td>\n",
              "      <td>25990</td>\n",
              "    </tr>\n",
              "    <tr>\n",
              "      <th>17</th>\n",
              "      <td>HP 15 Ryzen 3 Dual Core 3200U - (4 GB/1 TB HDD...</td>\n",
              "      <td>4.1</td>\n",
              "      <td>31490</td>\n",
              "    </tr>\n",
              "    <tr>\n",
              "      <th>18</th>\n",
              "      <td>HP 14s Core i3 10th Gen - (8 GB/256 GB SSD/Win...</td>\n",
              "      <td>4.2</td>\n",
              "      <td>36990</td>\n",
              "    </tr>\n",
              "    <tr>\n",
              "      <th>19</th>\n",
              "      <td>LifeDigital Zed Core i3 5th Gen - (4 GB/1 TB H...</td>\n",
              "      <td>3.7</td>\n",
              "      <td>26990</td>\n",
              "    </tr>\n",
              "    <tr>\n",
              "      <th>20</th>\n",
              "      <td>Lenovo Ideapad 3 Core i3 10th Gen - (4 GB/1 TB...</td>\n",
              "      <td>3.8</td>\n",
              "      <td>33490</td>\n",
              "    </tr>\n",
              "    <tr>\n",
              "      <th>21</th>\n",
              "      <td>Lenovo Legion Y540 Core i5 9th Gen - (8 GB/1 T...</td>\n",
              "      <td>4.5</td>\n",
              "      <td>63990</td>\n",
              "    </tr>\n",
              "    <tr>\n",
              "      <th>22</th>\n",
              "      <td>Asus Celeron Dual Core - (4 GB/1 TB HDD/Window...</td>\n",
              "      <td>3.9</td>\n",
              "      <td>21990</td>\n",
              "    </tr>\n",
              "    <tr>\n",
              "      <th>23</th>\n",
              "      <td>Dell Inspiron Core i5 10th Gen - (8 GB/512 GB ...</td>\n",
              "      <td>4.3</td>\n",
              "      <td>61990</td>\n",
              "    </tr>\n",
              "  </tbody>\n",
              "</table>\n",
              "</div>"
            ],
            "text/plain": [
              "                                                title  rating   price\n",
              "0   Acer One 14 Pentium Gold - (4 GB/1 TB HDD/Wind...     4.0   23990\n",
              "1   Apple MacBook Pro Core i5 8th Gen - (8 GB/512 ...     4.4  121500\n",
              "2   Dell Inspiron 3505 Ryzen 3 Dual Core 3250U - (...     4.3   34790\n",
              "3   HP 14 Core i5 10th Gen - (8 GB/512 GB SSD/Wind...     4.3   47990\n",
              "4   Asus Core i3 10th Gen - (8 GB/1 TB HDD/Windows...     4.5   34990\n",
              "5   Asus VivoBook 15 Core i5 10th Gen - (8 GB/1 TB...     4.0   42990\n",
              "6   HP 15s Ryzen 3 Dual Core 3250U - (8 GB/1 TB HD...     4.5   34990\n",
              "7   HP 15s Ryzen 3 Dual Core 3250U - (4 GB/1 TB HD...     4.3   30990\n",
              "8   Lenovo Ideapad S145 Ryzen 5 Quad Core 3500U - ...     4.2   42990\n",
              "9   Lenovo Ideapad Gaming 3 Ryzen 5 Hexa Core 4600...     4.5   59990\n",
              "10  Lenovo Ideapad S145 Core i3 10th Gen - (4 GB/2...     4.3   32990\n",
              "11  Lenovo Ideapad S145 APU Dual Core A6 A6-9225 -...     4.0   24990\n",
              "12  HP 15s Celeron Dual Core - (4 GB/1 TB HDD/Wind...     4.0   23990\n",
              "13  Mi Notebook 14 Core i5 10th Gen - (8 GB/512 GB...     4.3   44999\n",
              "14  Lenovo Ideapad 3 Core i5 10th Gen - (8 GB/1 TB...     4.1   43990\n",
              "15  Dell Inspiron 3501 Core i5 11th Gen - (8 GB/1 ...     4.7   62690\n",
              "16  Lenovo Ideapad 3 Athlon Dual Core 3050U - (4 G...     4.0   25990\n",
              "17  HP 15 Ryzen 3 Dual Core 3200U - (4 GB/1 TB HDD...     4.1   31490\n",
              "18  HP 14s Core i3 10th Gen - (8 GB/256 GB SSD/Win...     4.2   36990\n",
              "19  LifeDigital Zed Core i3 5th Gen - (4 GB/1 TB H...     3.7   26990\n",
              "20  Lenovo Ideapad 3 Core i3 10th Gen - (4 GB/1 TB...     3.8   33490\n",
              "21  Lenovo Legion Y540 Core i5 9th Gen - (8 GB/1 T...     4.5   63990\n",
              "22  Asus Celeron Dual Core - (4 GB/1 TB HDD/Window...     3.9   21990\n",
              "23  Dell Inspiron Core i5 10th Gen - (8 GB/512 GB ...     4.3   61990"
            ]
          },
          "execution_count": 20,
          "metadata": {},
          "output_type": "execute_result"
        }
      ]
    },
    {
      "cell_type": "code",
      "metadata": {
        "id": "NydgwIBC9Nci",
        "outputId": "2a036556-76c0-41f1-c3b8-a2f7b40a303e"
      },
      "source": [
        "#completa"
      ],
      "execution_count": null,
      "outputs": [
        {
          "data": {
            "text/plain": [
              "(24, 3)"
            ]
          },
          "execution_count": 21,
          "metadata": {},
          "output_type": "execute_result"
        }
      ]
    },
    {
      "cell_type": "code",
      "metadata": {
        "id": "8-FS3TYB9Ncj",
        "outputId": "213ec213-8dce-4be8-9132-b4147259f2ab"
      },
      "source": [
        "#completa"
      ],
      "execution_count": null,
      "outputs": [
        {
          "data": {
            "text/plain": [
              "title      object\n",
              "rating    float64\n",
              "price       int64\n",
              "dtype: object"
            ]
          },
          "execution_count": 22,
          "metadata": {},
          "output_type": "execute_result"
        }
      ]
    },
    {
      "cell_type": "markdown",
      "metadata": {
        "id": "WD0A2eK49Ncj"
      },
      "source": [
        "Quiero dividir el título debido a todas las especificaciones y nombres de portátiles en una fila.\n",
        "\n",
        "Lo dividiremos en diferentes columnas por separado usando la opción split ()"
      ]
    },
    {
      "cell_type": "code",
      "metadata": {
        "id": "sk0U7xBJ9Nck",
        "outputId": "797471ee-fd3c-418f-a737-255c8ec63bbb"
      },
      "source": [
        "laptop_df['model'], laptop_df['spec'] = laptop_df['title'].str.split('-', 1).str\n",
        "del laptop_df['title']\n",
        "laptop_df.head()"
      ],
      "execution_count": null,
      "outputs": [
        {
          "name": "stderr",
          "output_type": "stream",
          "text": [
            "C:\\Anaconda3\\lib\\site-packages\\ipykernel_launcher.py:1: FutureWarning: Columnar iteration over characters will be deprecated in future releases.\n",
            "  \"\"\"Entry point for launching an IPython kernel.\n"
          ]
        },
        {
          "data": {
            "text/html": [
              "<div>\n",
              "<style scoped>\n",
              "    .dataframe tbody tr th:only-of-type {\n",
              "        vertical-align: middle;\n",
              "    }\n",
              "\n",
              "    .dataframe tbody tr th {\n",
              "        vertical-align: top;\n",
              "    }\n",
              "\n",
              "    .dataframe thead th {\n",
              "        text-align: right;\n",
              "    }\n",
              "</style>\n",
              "<table border=\"1\" class=\"dataframe\">\n",
              "  <thead>\n",
              "    <tr style=\"text-align: right;\">\n",
              "      <th></th>\n",
              "      <th>rating</th>\n",
              "      <th>price</th>\n",
              "      <th>model</th>\n",
              "      <th>spec</th>\n",
              "    </tr>\n",
              "  </thead>\n",
              "  <tbody>\n",
              "    <tr>\n",
              "      <th>0</th>\n",
              "      <td>4.0</td>\n",
              "      <td>23990</td>\n",
              "      <td>Acer One 14 Pentium Gold</td>\n",
              "      <td>(4 GB/1 TB HDD/Windows 10 Home) Z2-485 Thin a...</td>\n",
              "    </tr>\n",
              "    <tr>\n",
              "      <th>1</th>\n",
              "      <td>4.4</td>\n",
              "      <td>121500</td>\n",
              "      <td>Apple MacBook Pro Core i5 8th Gen</td>\n",
              "      <td>(8 GB/512 GB SSD/Mac OS Mojave) MV9A2HN</td>\n",
              "    </tr>\n",
              "    <tr>\n",
              "      <th>2</th>\n",
              "      <td>4.3</td>\n",
              "      <td>34790</td>\n",
              "      <td>Dell Inspiron 3505 Ryzen 3 Dual Core 3250U</td>\n",
              "      <td>(8 GB/256 GB SSD/Windows 10 Home) Inspiron 35...</td>\n",
              "    </tr>\n",
              "    <tr>\n",
              "      <th>3</th>\n",
              "      <td>4.3</td>\n",
              "      <td>47990</td>\n",
              "      <td>HP 14 Core i5 10th Gen</td>\n",
              "      <td>(8 GB/512 GB SSD/Windows 10 Home) 14-ck2018TU...</td>\n",
              "    </tr>\n",
              "    <tr>\n",
              "      <th>4</th>\n",
              "      <td>4.5</td>\n",
              "      <td>34990</td>\n",
              "      <td>Asus Core i3 10th Gen</td>\n",
              "      <td>(8 GB/1 TB HDD/Windows 10 Home) X515JA-EJ321T...</td>\n",
              "    </tr>\n",
              "  </tbody>\n",
              "</table>\n",
              "</div>"
            ],
            "text/plain": [
              "   rating   price                                        model  \\\n",
              "0     4.0   23990                    Acer One 14 Pentium Gold    \n",
              "1     4.4  121500           Apple MacBook Pro Core i5 8th Gen    \n",
              "2     4.3   34790  Dell Inspiron 3505 Ryzen 3 Dual Core 3250U    \n",
              "3     4.3   47990                      HP 14 Core i5 10th Gen    \n",
              "4     4.5   34990                       Asus Core i3 10th Gen    \n",
              "\n",
              "                                                spec  \n",
              "0   (4 GB/1 TB HDD/Windows 10 Home) Z2-485 Thin a...  \n",
              "1            (8 GB/512 GB SSD/Mac OS Mojave) MV9A2HN  \n",
              "2   (8 GB/256 GB SSD/Windows 10 Home) Inspiron 35...  \n",
              "3   (8 GB/512 GB SSD/Windows 10 Home) 14-ck2018TU...  \n",
              "4   (8 GB/1 TB HDD/Windows 10 Home) X515JA-EJ321T...  "
            ]
          },
          "execution_count": 23,
          "metadata": {},
          "output_type": "execute_result"
        }
      ]
    },
    {
      "cell_type": "markdown",
      "metadata": {
        "id": "KUs1Wgmc9Nck"
      },
      "source": [
        "Usamos esta opción dividida (split \"-\") para separar del título y crear una columna separada como modelo y especificación y eliminar el título"
      ]
    },
    {
      "cell_type": "code",
      "metadata": {
        "id": "qmA3IKV89Ncl",
        "outputId": "06d97f20-d782-4d83-9245-7d4efef1bafd"
      },
      "source": [
        "#completa"
      ],
      "execution_count": null,
      "outputs": [
        {
          "name": "stderr",
          "output_type": "stream",
          "text": [
            "C:\\Anaconda3\\lib\\site-packages\\ipykernel_launcher.py:1: FutureWarning: Columnar iteration over characters will be deprecated in future releases.\n",
            "  \"\"\"Entry point for launching an IPython kernel.\n"
          ]
        },
        {
          "data": {
            "text/html": [
              "<div>\n",
              "<style scoped>\n",
              "    .dataframe tbody tr th:only-of-type {\n",
              "        vertical-align: middle;\n",
              "    }\n",
              "\n",
              "    .dataframe tbody tr th {\n",
              "        vertical-align: top;\n",
              "    }\n",
              "\n",
              "    .dataframe thead th {\n",
              "        text-align: right;\n",
              "    }\n",
              "</style>\n",
              "<table border=\"1\" class=\"dataframe\">\n",
              "  <thead>\n",
              "    <tr style=\"text-align: right;\">\n",
              "      <th></th>\n",
              "      <th>rating</th>\n",
              "      <th>price</th>\n",
              "      <th>model</th>\n",
              "      <th>RAM</th>\n",
              "      <th>HDD</th>\n",
              "    </tr>\n",
              "  </thead>\n",
              "  <tbody>\n",
              "    <tr>\n",
              "      <th>0</th>\n",
              "      <td>4.0</td>\n",
              "      <td>23990</td>\n",
              "      <td>Acer One 14 Pentium Gold</td>\n",
              "      <td></td>\n",
              "      <td>4 GB/1 TB HDD/Windows 10 Home) Z2-485 Thin and...</td>\n",
              "    </tr>\n",
              "    <tr>\n",
              "      <th>1</th>\n",
              "      <td>4.4</td>\n",
              "      <td>121500</td>\n",
              "      <td>Apple MacBook Pro Core i5 8th Gen</td>\n",
              "      <td></td>\n",
              "      <td>8 GB/512 GB SSD/Mac OS Mojave) MV9A2HN</td>\n",
              "    </tr>\n",
              "    <tr>\n",
              "      <th>2</th>\n",
              "      <td>4.3</td>\n",
              "      <td>34790</td>\n",
              "      <td>Dell Inspiron 3505 Ryzen 3 Dual Core 3250U</td>\n",
              "      <td></td>\n",
              "      <td>8 GB/256 GB SSD/Windows 10 Home) Inspiron 3505...</td>\n",
              "    </tr>\n",
              "    <tr>\n",
              "      <th>3</th>\n",
              "      <td>4.3</td>\n",
              "      <td>47990</td>\n",
              "      <td>HP 14 Core i5 10th Gen</td>\n",
              "      <td></td>\n",
              "      <td>8 GB/512 GB SSD/Windows 10 Home) 14-ck2018TU T...</td>\n",
              "    </tr>\n",
              "    <tr>\n",
              "      <th>4</th>\n",
              "      <td>4.5</td>\n",
              "      <td>34990</td>\n",
              "      <td>Asus Core i3 10th Gen</td>\n",
              "      <td></td>\n",
              "      <td>8 GB/1 TB HDD/Windows 10 Home) X515JA-EJ321T T...</td>\n",
              "    </tr>\n",
              "  </tbody>\n",
              "</table>\n",
              "</div>"
            ],
            "text/plain": [
              "   rating   price                                        model RAM  \\\n",
              "0     4.0   23990                    Acer One 14 Pentium Gold        \n",
              "1     4.4  121500           Apple MacBook Pro Core i5 8th Gen        \n",
              "2     4.3   34790  Dell Inspiron 3505 Ryzen 3 Dual Core 3250U        \n",
              "3     4.3   47990                      HP 14 Core i5 10th Gen        \n",
              "4     4.5   34990                       Asus Core i3 10th Gen        \n",
              "\n",
              "                                                 HDD  \n",
              "0  4 GB/1 TB HDD/Windows 10 Home) Z2-485 Thin and...  \n",
              "1             8 GB/512 GB SSD/Mac OS Mojave) MV9A2HN  \n",
              "2  8 GB/256 GB SSD/Windows 10 Home) Inspiron 3505...  \n",
              "3  8 GB/512 GB SSD/Windows 10 Home) 14-ck2018TU T...  \n",
              "4  8 GB/1 TB HDD/Windows 10 Home) X515JA-EJ321T T...  "
            ]
          },
          "execution_count": 24,
          "metadata": {},
          "output_type": "execute_result"
        }
      ]
    },
    {
      "cell_type": "code",
      "metadata": {
        "id": "k136yO4E9Ncl",
        "outputId": "328f8e30-1272-4a87-b21d-0aa7dcf4d6d9"
      },
      "source": [
        "#completa"
      ],
      "execution_count": null,
      "outputs": [
        {
          "name": "stderr",
          "output_type": "stream",
          "text": [
            "C:\\Anaconda3\\lib\\site-packages\\ipykernel_launcher.py:1: FutureWarning: Columnar iteration over characters will be deprecated in future releases.\n",
            "  \"\"\"Entry point for launching an IPython kernel.\n"
          ]
        },
        {
          "data": {
            "text/html": [
              "<div>\n",
              "<style scoped>\n",
              "    .dataframe tbody tr th:only-of-type {\n",
              "        vertical-align: middle;\n",
              "    }\n",
              "\n",
              "    .dataframe tbody tr th {\n",
              "        vertical-align: top;\n",
              "    }\n",
              "\n",
              "    .dataframe thead th {\n",
              "        text-align: right;\n",
              "    }\n",
              "</style>\n",
              "<table border=\"1\" class=\"dataframe\">\n",
              "  <thead>\n",
              "    <tr style=\"text-align: right;\">\n",
              "      <th></th>\n",
              "      <th>rating</th>\n",
              "      <th>price</th>\n",
              "      <th>model</th>\n",
              "      <th>RAM</th>\n",
              "      <th>Hard disk</th>\n",
              "    </tr>\n",
              "  </thead>\n",
              "  <tbody>\n",
              "    <tr>\n",
              "      <th>0</th>\n",
              "      <td>4.0</td>\n",
              "      <td>23990</td>\n",
              "      <td>Acer One 14 Pentium Gold</td>\n",
              "      <td>4 GB</td>\n",
              "      <td>1 TB HDD/Windows 10 Home) Z2-485 Thin and Ligh...</td>\n",
              "    </tr>\n",
              "    <tr>\n",
              "      <th>1</th>\n",
              "      <td>4.4</td>\n",
              "      <td>121500</td>\n",
              "      <td>Apple MacBook Pro Core i5 8th Gen</td>\n",
              "      <td>8 GB</td>\n",
              "      <td>512 GB SSD/Mac OS Mojave) MV9A2HN</td>\n",
              "    </tr>\n",
              "    <tr>\n",
              "      <th>2</th>\n",
              "      <td>4.3</td>\n",
              "      <td>34790</td>\n",
              "      <td>Dell Inspiron 3505 Ryzen 3 Dual Core 3250U</td>\n",
              "      <td>8 GB</td>\n",
              "      <td>256 GB SSD/Windows 10 Home) Inspiron 3505 Laptop</td>\n",
              "    </tr>\n",
              "    <tr>\n",
              "      <th>3</th>\n",
              "      <td>4.3</td>\n",
              "      <td>47990</td>\n",
              "      <td>HP 14 Core i5 10th Gen</td>\n",
              "      <td>8 GB</td>\n",
              "      <td>512 GB SSD/Windows 10 Home) 14-ck2018TU Thin a...</td>\n",
              "    </tr>\n",
              "    <tr>\n",
              "      <th>4</th>\n",
              "      <td>4.5</td>\n",
              "      <td>34990</td>\n",
              "      <td>Asus Core i3 10th Gen</td>\n",
              "      <td>8 GB</td>\n",
              "      <td>1 TB HDD/Windows 10 Home) X515JA-EJ321T Thin a...</td>\n",
              "    </tr>\n",
              "  </tbody>\n",
              "</table>\n",
              "</div>"
            ],
            "text/plain": [
              "   rating   price                                        model   RAM  \\\n",
              "0     4.0   23990                    Acer One 14 Pentium Gold   4 GB   \n",
              "1     4.4  121500           Apple MacBook Pro Core i5 8th Gen   8 GB   \n",
              "2     4.3   34790  Dell Inspiron 3505 Ryzen 3 Dual Core 3250U   8 GB   \n",
              "3     4.3   47990                      HP 14 Core i5 10th Gen   8 GB   \n",
              "4     4.5   34990                       Asus Core i3 10th Gen   8 GB   \n",
              "\n",
              "                                           Hard disk  \n",
              "0  1 TB HDD/Windows 10 Home) Z2-485 Thin and Ligh...  \n",
              "1                  512 GB SSD/Mac OS Mojave) MV9A2HN  \n",
              "2   256 GB SSD/Windows 10 Home) Inspiron 3505 Laptop  \n",
              "3  512 GB SSD/Windows 10 Home) 14-ck2018TU Thin a...  \n",
              "4  1 TB HDD/Windows 10 Home) X515JA-EJ321T Thin a...  "
            ]
          },
          "execution_count": 25,
          "metadata": {},
          "output_type": "execute_result"
        }
      ]
    },
    {
      "cell_type": "markdown",
      "metadata": {
        "id": "ZmkmNJTT9Ncm"
      },
      "source": [
        "Continuemos hasta conseguir lo siguiente..."
      ]
    },
    {
      "cell_type": "code",
      "metadata": {
        "id": "lTzTPnDN9Ncm",
        "outputId": "26c4bf25-ac7b-4416-edc5-ac753a85f80a"
      },
      "source": [
        "#completa"
      ],
      "execution_count": null,
      "outputs": [
        {
          "name": "stderr",
          "output_type": "stream",
          "text": [
            "C:\\Anaconda3\\lib\\site-packages\\ipykernel_launcher.py:1: FutureWarning: Columnar iteration over characters will be deprecated in future releases.\n",
            "  \"\"\"Entry point for launching an IPython kernel.\n"
          ]
        },
        {
          "data": {
            "text/html": [
              "<div>\n",
              "<style scoped>\n",
              "    .dataframe tbody tr th:only-of-type {\n",
              "        vertical-align: middle;\n",
              "    }\n",
              "\n",
              "    .dataframe tbody tr th {\n",
              "        vertical-align: top;\n",
              "    }\n",
              "\n",
              "    .dataframe thead th {\n",
              "        text-align: right;\n",
              "    }\n",
              "</style>\n",
              "<table border=\"1\" class=\"dataframe\">\n",
              "  <thead>\n",
              "    <tr style=\"text-align: right;\">\n",
              "      <th></th>\n",
              "      <th>rating</th>\n",
              "      <th>price</th>\n",
              "      <th>model</th>\n",
              "      <th>RAM</th>\n",
              "      <th>Storage</th>\n",
              "      <th>OS</th>\n",
              "    </tr>\n",
              "  </thead>\n",
              "  <tbody>\n",
              "    <tr>\n",
              "      <th>0</th>\n",
              "      <td>4.0</td>\n",
              "      <td>23990</td>\n",
              "      <td>Acer One 14 Pentium Gold</td>\n",
              "      <td>4 GB</td>\n",
              "      <td>1 TB HDD</td>\n",
              "      <td>Windows 10 Home) Z2-485 Thin and Light Laptop</td>\n",
              "    </tr>\n",
              "    <tr>\n",
              "      <th>1</th>\n",
              "      <td>4.4</td>\n",
              "      <td>121500</td>\n",
              "      <td>Apple MacBook Pro Core i5 8th Gen</td>\n",
              "      <td>8 GB</td>\n",
              "      <td>512 GB SSD</td>\n",
              "      <td>Mac OS Mojave) MV9A2HN</td>\n",
              "    </tr>\n",
              "    <tr>\n",
              "      <th>2</th>\n",
              "      <td>4.3</td>\n",
              "      <td>34790</td>\n",
              "      <td>Dell Inspiron 3505 Ryzen 3 Dual Core 3250U</td>\n",
              "      <td>8 GB</td>\n",
              "      <td>256 GB SSD</td>\n",
              "      <td>Windows 10 Home) Inspiron 3505 Laptop</td>\n",
              "    </tr>\n",
              "    <tr>\n",
              "      <th>3</th>\n",
              "      <td>4.3</td>\n",
              "      <td>47990</td>\n",
              "      <td>HP 14 Core i5 10th Gen</td>\n",
              "      <td>8 GB</td>\n",
              "      <td>512 GB SSD</td>\n",
              "      <td>Windows 10 Home) 14-ck2018TU Thin and Light La...</td>\n",
              "    </tr>\n",
              "    <tr>\n",
              "      <th>4</th>\n",
              "      <td>4.5</td>\n",
              "      <td>34990</td>\n",
              "      <td>Asus Core i3 10th Gen</td>\n",
              "      <td>8 GB</td>\n",
              "      <td>1 TB HDD</td>\n",
              "      <td>Windows 10 Home) X515JA-EJ321T Thin and Light ...</td>\n",
              "    </tr>\n",
              "  </tbody>\n",
              "</table>\n",
              "</div>"
            ],
            "text/plain": [
              "   rating   price                                        model   RAM  \\\n",
              "0     4.0   23990                    Acer One 14 Pentium Gold   4 GB   \n",
              "1     4.4  121500           Apple MacBook Pro Core i5 8th Gen   8 GB   \n",
              "2     4.3   34790  Dell Inspiron 3505 Ryzen 3 Dual Core 3250U   8 GB   \n",
              "3     4.3   47990                      HP 14 Core i5 10th Gen   8 GB   \n",
              "4     4.5   34990                       Asus Core i3 10th Gen   8 GB   \n",
              "\n",
              "      Storage                                                 OS  \n",
              "0    1 TB HDD      Windows 10 Home) Z2-485 Thin and Light Laptop  \n",
              "1  512 GB SSD                             Mac OS Mojave) MV9A2HN  \n",
              "2  256 GB SSD              Windows 10 Home) Inspiron 3505 Laptop  \n",
              "3  512 GB SSD  Windows 10 Home) 14-ck2018TU Thin and Light La...  \n",
              "4    1 TB HDD  Windows 10 Home) X515JA-EJ321T Thin and Light ...  "
            ]
          },
          "execution_count": 26,
          "metadata": {},
          "output_type": "execute_result"
        }
      ]
    },
    {
      "cell_type": "code",
      "metadata": {
        "id": "Ezoe6ZyJ9Ncn",
        "outputId": "9be63b38-a4cd-4f9b-c0af-961989198289"
      },
      "source": [
        "#completa"
      ],
      "execution_count": null,
      "outputs": [
        {
          "name": "stderr",
          "output_type": "stream",
          "text": [
            "C:\\Anaconda3\\lib\\site-packages\\ipykernel_launcher.py:1: FutureWarning: Columnar iteration over characters will be deprecated in future releases.\n",
            "  \"\"\"Entry point for launching an IPython kernel.\n"
          ]
        },
        {
          "data": {
            "text/html": [
              "<div>\n",
              "<style scoped>\n",
              "    .dataframe tbody tr th:only-of-type {\n",
              "        vertical-align: middle;\n",
              "    }\n",
              "\n",
              "    .dataframe tbody tr th {\n",
              "        vertical-align: top;\n",
              "    }\n",
              "\n",
              "    .dataframe thead th {\n",
              "        text-align: right;\n",
              "    }\n",
              "</style>\n",
              "<table border=\"1\" class=\"dataframe\">\n",
              "  <thead>\n",
              "    <tr style=\"text-align: right;\">\n",
              "      <th></th>\n",
              "      <th>rating</th>\n",
              "      <th>price</th>\n",
              "      <th>model</th>\n",
              "      <th>RAM</th>\n",
              "      <th>Storage</th>\n",
              "      <th>System</th>\n",
              "      <th>Other_Info</th>\n",
              "    </tr>\n",
              "  </thead>\n",
              "  <tbody>\n",
              "    <tr>\n",
              "      <th>0</th>\n",
              "      <td>4.0</td>\n",
              "      <td>23990</td>\n",
              "      <td>Acer One 14 Pentium Gold</td>\n",
              "      <td>4 GB</td>\n",
              "      <td>1 TB HDD</td>\n",
              "      <td>Windows 10 Home</td>\n",
              "      <td>Z2-485 Thin and Light Laptop</td>\n",
              "    </tr>\n",
              "    <tr>\n",
              "      <th>1</th>\n",
              "      <td>4.4</td>\n",
              "      <td>121500</td>\n",
              "      <td>Apple MacBook Pro Core i5 8th Gen</td>\n",
              "      <td>8 GB</td>\n",
              "      <td>512 GB SSD</td>\n",
              "      <td>Mac OS Mojave</td>\n",
              "      <td>MV9A2HN</td>\n",
              "    </tr>\n",
              "    <tr>\n",
              "      <th>2</th>\n",
              "      <td>4.3</td>\n",
              "      <td>34790</td>\n",
              "      <td>Dell Inspiron 3505 Ryzen 3 Dual Core 3250U</td>\n",
              "      <td>8 GB</td>\n",
              "      <td>256 GB SSD</td>\n",
              "      <td>Windows 10 Home</td>\n",
              "      <td>Inspiron 3505 Laptop</td>\n",
              "    </tr>\n",
              "    <tr>\n",
              "      <th>3</th>\n",
              "      <td>4.3</td>\n",
              "      <td>47990</td>\n",
              "      <td>HP 14 Core i5 10th Gen</td>\n",
              "      <td>8 GB</td>\n",
              "      <td>512 GB SSD</td>\n",
              "      <td>Windows 10 Home</td>\n",
              "      <td>14-ck2018TU Thin and Light Laptop</td>\n",
              "    </tr>\n",
              "    <tr>\n",
              "      <th>4</th>\n",
              "      <td>4.5</td>\n",
              "      <td>34990</td>\n",
              "      <td>Asus Core i3 10th Gen</td>\n",
              "      <td>8 GB</td>\n",
              "      <td>1 TB HDD</td>\n",
              "      <td>Windows 10 Home</td>\n",
              "      <td>X515JA-EJ321T Thin and Light Laptop</td>\n",
              "    </tr>\n",
              "  </tbody>\n",
              "</table>\n",
              "</div>"
            ],
            "text/plain": [
              "   rating   price                                        model   RAM  \\\n",
              "0     4.0   23990                    Acer One 14 Pentium Gold   4 GB   \n",
              "1     4.4  121500           Apple MacBook Pro Core i5 8th Gen   8 GB   \n",
              "2     4.3   34790  Dell Inspiron 3505 Ryzen 3 Dual Core 3250U   8 GB   \n",
              "3     4.3   47990                      HP 14 Core i5 10th Gen   8 GB   \n",
              "4     4.5   34990                       Asus Core i3 10th Gen   8 GB   \n",
              "\n",
              "      Storage           System                            Other_Info  \n",
              "0    1 TB HDD  Windows 10 Home          Z2-485 Thin and Light Laptop  \n",
              "1  512 GB SSD    Mac OS Mojave                               MV9A2HN  \n",
              "2  256 GB SSD  Windows 10 Home                  Inspiron 3505 Laptop  \n",
              "3  512 GB SSD  Windows 10 Home     14-ck2018TU Thin and Light Laptop  \n",
              "4    1 TB HDD  Windows 10 Home   X515JA-EJ321T Thin and Light Laptop  "
            ]
          },
          "execution_count": 27,
          "metadata": {},
          "output_type": "execute_result"
        }
      ]
    },
    {
      "cell_type": "markdown",
      "metadata": {
        "id": "3nMTrkOU9Ncn"
      },
      "source": [
        "### Paso 6: Identificación de valores perdidos\n",
        "\n",
        "Los métodos isnull () y notnull () son las formas más comunes de identificar valores perdidos.\n",
        "\n",
        "Mientras maneja los datos faltantes, primero debe identificar las filas y columnas que contienen los valores faltantes, contar el número de valores faltantes y luego decidir cómo desea tratarlos.\n",
        "\n",
        "Es importante que trate los valores faltantes en cada columna por separado, en lugar de implementar una única solución (por ejemplo, reemplazar los NaN por la media de una columna) para todas las columnas.\n",
        "\n",
        "isnull () devuelve un valor booleano (Verdadero / Falso) que luego se puede usar para encontrar las filas o columnas que contienen valores perdidos."
      ]
    },
    {
      "cell_type": "code",
      "metadata": {
        "id": "-NYQ-5rZ9Ncn",
        "outputId": "5f922b26-d576-4f3b-ec44-17ef8d85c05f"
      },
      "source": [
        "#completa"
      ],
      "execution_count": null,
      "outputs": [
        {
          "data": {
            "text/html": [
              "<div>\n",
              "<style scoped>\n",
              "    .dataframe tbody tr th:only-of-type {\n",
              "        vertical-align: middle;\n",
              "    }\n",
              "\n",
              "    .dataframe tbody tr th {\n",
              "        vertical-align: top;\n",
              "    }\n",
              "\n",
              "    .dataframe thead th {\n",
              "        text-align: right;\n",
              "    }\n",
              "</style>\n",
              "<table border=\"1\" class=\"dataframe\">\n",
              "  <thead>\n",
              "    <tr style=\"text-align: right;\">\n",
              "      <th></th>\n",
              "      <th>rating</th>\n",
              "      <th>price</th>\n",
              "      <th>model</th>\n",
              "      <th>RAM</th>\n",
              "      <th>Storage</th>\n",
              "      <th>System</th>\n",
              "      <th>Other_Info</th>\n",
              "    </tr>\n",
              "  </thead>\n",
              "  <tbody>\n",
              "    <tr>\n",
              "      <th>0</th>\n",
              "      <td>False</td>\n",
              "      <td>False</td>\n",
              "      <td>False</td>\n",
              "      <td>False</td>\n",
              "      <td>False</td>\n",
              "      <td>False</td>\n",
              "      <td>False</td>\n",
              "    </tr>\n",
              "    <tr>\n",
              "      <th>1</th>\n",
              "      <td>False</td>\n",
              "      <td>False</td>\n",
              "      <td>False</td>\n",
              "      <td>False</td>\n",
              "      <td>False</td>\n",
              "      <td>False</td>\n",
              "      <td>False</td>\n",
              "    </tr>\n",
              "    <tr>\n",
              "      <th>2</th>\n",
              "      <td>False</td>\n",
              "      <td>False</td>\n",
              "      <td>False</td>\n",
              "      <td>False</td>\n",
              "      <td>False</td>\n",
              "      <td>False</td>\n",
              "      <td>False</td>\n",
              "    </tr>\n",
              "    <tr>\n",
              "      <th>3</th>\n",
              "      <td>False</td>\n",
              "      <td>False</td>\n",
              "      <td>False</td>\n",
              "      <td>False</td>\n",
              "      <td>False</td>\n",
              "      <td>False</td>\n",
              "      <td>False</td>\n",
              "    </tr>\n",
              "    <tr>\n",
              "      <th>4</th>\n",
              "      <td>False</td>\n",
              "      <td>False</td>\n",
              "      <td>False</td>\n",
              "      <td>False</td>\n",
              "      <td>False</td>\n",
              "      <td>False</td>\n",
              "      <td>False</td>\n",
              "    </tr>\n",
              "    <tr>\n",
              "      <th>5</th>\n",
              "      <td>False</td>\n",
              "      <td>False</td>\n",
              "      <td>False</td>\n",
              "      <td>False</td>\n",
              "      <td>False</td>\n",
              "      <td>False</td>\n",
              "      <td>False</td>\n",
              "    </tr>\n",
              "    <tr>\n",
              "      <th>6</th>\n",
              "      <td>False</td>\n",
              "      <td>False</td>\n",
              "      <td>False</td>\n",
              "      <td>False</td>\n",
              "      <td>False</td>\n",
              "      <td>False</td>\n",
              "      <td>False</td>\n",
              "    </tr>\n",
              "    <tr>\n",
              "      <th>7</th>\n",
              "      <td>False</td>\n",
              "      <td>False</td>\n",
              "      <td>False</td>\n",
              "      <td>False</td>\n",
              "      <td>False</td>\n",
              "      <td>False</td>\n",
              "      <td>False</td>\n",
              "    </tr>\n",
              "    <tr>\n",
              "      <th>8</th>\n",
              "      <td>False</td>\n",
              "      <td>False</td>\n",
              "      <td>False</td>\n",
              "      <td>False</td>\n",
              "      <td>False</td>\n",
              "      <td>False</td>\n",
              "      <td>False</td>\n",
              "    </tr>\n",
              "    <tr>\n",
              "      <th>9</th>\n",
              "      <td>False</td>\n",
              "      <td>False</td>\n",
              "      <td>False</td>\n",
              "      <td>False</td>\n",
              "      <td>False</td>\n",
              "      <td>False</td>\n",
              "      <td>True</td>\n",
              "    </tr>\n",
              "    <tr>\n",
              "      <th>10</th>\n",
              "      <td>False</td>\n",
              "      <td>False</td>\n",
              "      <td>False</td>\n",
              "      <td>False</td>\n",
              "      <td>False</td>\n",
              "      <td>False</td>\n",
              "      <td>False</td>\n",
              "    </tr>\n",
              "    <tr>\n",
              "      <th>11</th>\n",
              "      <td>False</td>\n",
              "      <td>False</td>\n",
              "      <td>False</td>\n",
              "      <td>False</td>\n",
              "      <td>False</td>\n",
              "      <td>False</td>\n",
              "      <td>False</td>\n",
              "    </tr>\n",
              "    <tr>\n",
              "      <th>12</th>\n",
              "      <td>False</td>\n",
              "      <td>False</td>\n",
              "      <td>False</td>\n",
              "      <td>False</td>\n",
              "      <td>False</td>\n",
              "      <td>False</td>\n",
              "      <td>False</td>\n",
              "    </tr>\n",
              "    <tr>\n",
              "      <th>13</th>\n",
              "      <td>False</td>\n",
              "      <td>False</td>\n",
              "      <td>False</td>\n",
              "      <td>False</td>\n",
              "      <td>False</td>\n",
              "      <td>False</td>\n",
              "      <td>False</td>\n",
              "    </tr>\n",
              "    <tr>\n",
              "      <th>14</th>\n",
              "      <td>False</td>\n",
              "      <td>False</td>\n",
              "      <td>False</td>\n",
              "      <td>False</td>\n",
              "      <td>False</td>\n",
              "      <td>False</td>\n",
              "      <td>False</td>\n",
              "    </tr>\n",
              "    <tr>\n",
              "      <th>15</th>\n",
              "      <td>False</td>\n",
              "      <td>False</td>\n",
              "      <td>False</td>\n",
              "      <td>False</td>\n",
              "      <td>False</td>\n",
              "      <td>False</td>\n",
              "      <td>False</td>\n",
              "    </tr>\n",
              "    <tr>\n",
              "      <th>16</th>\n",
              "      <td>False</td>\n",
              "      <td>False</td>\n",
              "      <td>False</td>\n",
              "      <td>False</td>\n",
              "      <td>False</td>\n",
              "      <td>False</td>\n",
              "      <td>False</td>\n",
              "    </tr>\n",
              "    <tr>\n",
              "      <th>17</th>\n",
              "      <td>False</td>\n",
              "      <td>False</td>\n",
              "      <td>False</td>\n",
              "      <td>False</td>\n",
              "      <td>False</td>\n",
              "      <td>False</td>\n",
              "      <td>False</td>\n",
              "    </tr>\n",
              "    <tr>\n",
              "      <th>18</th>\n",
              "      <td>False</td>\n",
              "      <td>False</td>\n",
              "      <td>False</td>\n",
              "      <td>False</td>\n",
              "      <td>False</td>\n",
              "      <td>False</td>\n",
              "      <td>False</td>\n",
              "    </tr>\n",
              "    <tr>\n",
              "      <th>19</th>\n",
              "      <td>False</td>\n",
              "      <td>False</td>\n",
              "      <td>False</td>\n",
              "      <td>False</td>\n",
              "      <td>False</td>\n",
              "      <td>False</td>\n",
              "      <td>False</td>\n",
              "    </tr>\n",
              "    <tr>\n",
              "      <th>20</th>\n",
              "      <td>False</td>\n",
              "      <td>False</td>\n",
              "      <td>False</td>\n",
              "      <td>False</td>\n",
              "      <td>False</td>\n",
              "      <td>False</td>\n",
              "      <td>False</td>\n",
              "    </tr>\n",
              "    <tr>\n",
              "      <th>21</th>\n",
              "      <td>False</td>\n",
              "      <td>False</td>\n",
              "      <td>False</td>\n",
              "      <td>False</td>\n",
              "      <td>False</td>\n",
              "      <td>False</td>\n",
              "      <td>True</td>\n",
              "    </tr>\n",
              "    <tr>\n",
              "      <th>22</th>\n",
              "      <td>False</td>\n",
              "      <td>False</td>\n",
              "      <td>False</td>\n",
              "      <td>False</td>\n",
              "      <td>False</td>\n",
              "      <td>False</td>\n",
              "      <td>False</td>\n",
              "    </tr>\n",
              "    <tr>\n",
              "      <th>23</th>\n",
              "      <td>False</td>\n",
              "      <td>False</td>\n",
              "      <td>False</td>\n",
              "      <td>False</td>\n",
              "      <td>False</td>\n",
              "      <td>False</td>\n",
              "      <td>False</td>\n",
              "    </tr>\n",
              "  </tbody>\n",
              "</table>\n",
              "</div>"
            ],
            "text/plain": [
              "    rating  price  model    RAM  Storage  System  Other_Info\n",
              "0    False  False  False  False    False   False       False\n",
              "1    False  False  False  False    False   False       False\n",
              "2    False  False  False  False    False   False       False\n",
              "3    False  False  False  False    False   False       False\n",
              "4    False  False  False  False    False   False       False\n",
              "5    False  False  False  False    False   False       False\n",
              "6    False  False  False  False    False   False       False\n",
              "7    False  False  False  False    False   False       False\n",
              "8    False  False  False  False    False   False       False\n",
              "9    False  False  False  False    False   False        True\n",
              "10   False  False  False  False    False   False       False\n",
              "11   False  False  False  False    False   False       False\n",
              "12   False  False  False  False    False   False       False\n",
              "13   False  False  False  False    False   False       False\n",
              "14   False  False  False  False    False   False       False\n",
              "15   False  False  False  False    False   False       False\n",
              "16   False  False  False  False    False   False       False\n",
              "17   False  False  False  False    False   False       False\n",
              "18   False  False  False  False    False   False       False\n",
              "19   False  False  False  False    False   False       False\n",
              "20   False  False  False  False    False   False       False\n",
              "21   False  False  False  False    False   False        True\n",
              "22   False  False  False  False    False   False       False\n",
              "23   False  False  False  False    False   False       False"
            ]
          },
          "execution_count": 28,
          "metadata": {},
          "output_type": "execute_result"
        }
      ]
    },
    {
      "cell_type": "markdown",
      "metadata": {
        "id": "tVhJ0n089Ncn"
      },
      "source": [
        "### Identificación de valores perdidos en columnas\n",
        "\n",
        "Primero calculemos el número total de valores faltantes en el marco de datos. Puede calcular el número de valores perdidos en cada columna mediante df.isnull().Sum()"
      ]
    },
    {
      "cell_type": "code",
      "metadata": {
        "id": "3tvFVMQU9Nco",
        "outputId": "aec872e9-1b13-44c0-e8c5-f9fd21c37540"
      },
      "source": [
        "#completa"
      ],
      "execution_count": null,
      "outputs": [
        {
          "data": {
            "text/plain": [
              "rating        0\n",
              "price         0\n",
              "model         0\n",
              "RAM           0\n",
              "Storage       0\n",
              "System        0\n",
              "Other_Info    2\n",
              "dtype: int64"
            ]
          },
          "execution_count": 29,
          "metadata": {},
          "output_type": "execute_result"
        }
      ]
    },
    {
      "cell_type": "code",
      "metadata": {
        "id": "liI0mnGN9Nco",
        "outputId": "aa46aaea-f037-4a6f-c0c8-9fcfb8677bee"
      },
      "source": [
        "#completa"
      ],
      "execution_count": null,
      "outputs": [
        {
          "data": {
            "text/plain": [
              "23"
            ]
          },
          "execution_count": 30,
          "metadata": {},
          "output_type": "execute_result"
        }
      ]
    },
    {
      "cell_type": "code",
      "metadata": {
        "id": "U8vIR9ru9Ncp",
        "outputId": "fce787f4-9d39-4c3e-9344-b841bf8b18c0"
      },
      "source": [
        "#completa"
      ],
      "execution_count": null,
      "outputs": [
        {
          "data": {
            "text/plain": [
              "HP 15s Ryzen 3 Dual Core 3250U                      2\n",
              "Asus VivoBook 15 Core i5 10th Gen                   1\n",
              "Lenovo Ideapad 3 Athlon Dual Core 3050U             1\n",
              "HP 15s Celeron Dual Core                            1\n",
              "Mi Notebook 14 Core i5 10th Gen                     1\n",
              "Lenovo Legion Y540 Core i5 9th Gen                  1\n",
              "HP 14 Core i5 10th Gen                              1\n",
              "HP 14s Core i3 10th Gen                             1\n",
              "Lenovo Ideapad 3 Core i5 10th Gen                   1\n",
              "Dell Inspiron 3501 Core i5 11th Gen                 1\n",
              "Lenovo Ideapad S145 APU Dual Core A6 A6             1\n",
              "Lenovo Ideapad 3 Core i3 10th Gen                   1\n",
              "Lenovo Ideapad Gaming 3 Ryzen 5 Hexa Core 4600H     1\n",
              "HP 15 Ryzen 3 Dual Core 3200U                       1\n",
              "Asus Core i3 10th Gen                               1\n",
              "Acer One 14 Pentium Gold                            1\n",
              "Dell Inspiron 3505 Ryzen 3 Dual Core 3250U          1\n",
              "LifeDigital Zed Core i3 5th Gen                     1\n",
              "Dell Inspiron Core i5 10th Gen                      1\n",
              "Lenovo Ideapad S145 Core i3 10th Gen                1\n",
              "Lenovo Ideapad S145 Ryzen 5 Quad Core 3500U         1\n",
              "Asus Celeron Dual Core                              1\n",
              "Apple MacBook Pro Core i5 8th Gen                   1\n",
              "Name: model, dtype: int64"
            ]
          },
          "execution_count": 31,
          "metadata": {},
          "output_type": "execute_result"
        }
      ]
    },
    {
      "cell_type": "code",
      "metadata": {
        "id": "wzMwULbu9Ncq",
        "outputId": "95e2f483-8eb0-4068-a724-3401a8f4bcc1"
      },
      "source": [
        "#completa"
      ],
      "execution_count": null,
      "outputs": [
        {
          "data": {
            "text/html": [
              "<div>\n",
              "<style scoped>\n",
              "    .dataframe tbody tr th:only-of-type {\n",
              "        vertical-align: middle;\n",
              "    }\n",
              "\n",
              "    .dataframe tbody tr th {\n",
              "        vertical-align: top;\n",
              "    }\n",
              "\n",
              "    .dataframe thead th {\n",
              "        text-align: right;\n",
              "    }\n",
              "</style>\n",
              "<table border=\"1\" class=\"dataframe\">\n",
              "  <thead>\n",
              "    <tr style=\"text-align: right;\">\n",
              "      <th></th>\n",
              "      <th>rating</th>\n",
              "      <th>price</th>\n",
              "    </tr>\n",
              "  </thead>\n",
              "  <tbody>\n",
              "    <tr>\n",
              "      <th>count</th>\n",
              "      <td>24.000000</td>\n",
              "      <td>24.000000</td>\n",
              "    </tr>\n",
              "    <tr>\n",
              "      <th>mean</th>\n",
              "      <td>4.204167</td>\n",
              "      <td>42157.458333</td>\n",
              "    </tr>\n",
              "    <tr>\n",
              "      <th>std</th>\n",
              "      <td>0.249311</td>\n",
              "      <td>21250.116282</td>\n",
              "    </tr>\n",
              "    <tr>\n",
              "      <th>min</th>\n",
              "      <td>3.700000</td>\n",
              "      <td>21990.000000</td>\n",
              "    </tr>\n",
              "    <tr>\n",
              "      <th>25%</th>\n",
              "      <td>4.000000</td>\n",
              "      <td>29990.000000</td>\n",
              "    </tr>\n",
              "    <tr>\n",
              "      <th>50%</th>\n",
              "      <td>4.250000</td>\n",
              "      <td>34990.000000</td>\n",
              "    </tr>\n",
              "    <tr>\n",
              "      <th>75%</th>\n",
              "      <td>4.325000</td>\n",
              "      <td>45746.750000</td>\n",
              "    </tr>\n",
              "    <tr>\n",
              "      <th>max</th>\n",
              "      <td>4.700000</td>\n",
              "      <td>121500.000000</td>\n",
              "    </tr>\n",
              "  </tbody>\n",
              "</table>\n",
              "</div>"
            ],
            "text/plain": [
              "          rating          price\n",
              "count  24.000000      24.000000\n",
              "mean    4.204167   42157.458333\n",
              "std     0.249311   21250.116282\n",
              "min     3.700000   21990.000000\n",
              "25%     4.000000   29990.000000\n",
              "50%     4.250000   34990.000000\n",
              "75%     4.325000   45746.750000\n",
              "max     4.700000  121500.000000"
            ]
          },
          "execution_count": 32,
          "metadata": {},
          "output_type": "execute_result"
        }
      ]
    },
    {
      "cell_type": "code",
      "metadata": {
        "id": "SUMI91H29Ncq",
        "outputId": "2d8a771f-d06d-4246-e60e-683a1bc062cd"
      },
      "source": [
        "#completa"
      ],
      "execution_count": null,
      "outputs": [
        {
          "data": {
            "text/plain": [
              "rating        float64\n",
              "price           int64\n",
              "model          object\n",
              "RAM            object\n",
              "Storage        object\n",
              "System         object\n",
              "Other_Info     object\n",
              "dtype: object"
            ]
          },
          "execution_count": 33,
          "metadata": {},
          "output_type": "execute_result"
        }
      ]
    },
    {
      "cell_type": "markdown",
      "metadata": {
        "id": "QI-K_ahU9Ncr"
      },
      "source": [
        "Ahora necesitamos filtrar las mejores computadoras portátiles con buenas especificaciones, precio y calificación de la lista"
      ]
    },
    {
      "cell_type": "markdown",
      "metadata": {
        "id": "zXTbt5io9Ncr"
      },
      "source": [
        "Muestra los siguientes resultados:\n",
        " * Laptops en rating <= 4\n",
        " * Laptops con rating >= 3.5 y un precio entre 30 y 40 mil $"
      ]
    },
    {
      "cell_type": "code",
      "metadata": {
        "id": "X8pF9rpb9Ncr",
        "outputId": "24826630-ecf9-4580-dd8e-3554ab9032e2"
      },
      "source": [
        "#completa"
      ],
      "execution_count": null,
      "outputs": [
        {
          "data": {
            "text/html": [
              "<div>\n",
              "<style scoped>\n",
              "    .dataframe tbody tr th:only-of-type {\n",
              "        vertical-align: middle;\n",
              "    }\n",
              "\n",
              "    .dataframe tbody tr th {\n",
              "        vertical-align: top;\n",
              "    }\n",
              "\n",
              "    .dataframe thead th {\n",
              "        text-align: right;\n",
              "    }\n",
              "</style>\n",
              "<table border=\"1\" class=\"dataframe\">\n",
              "  <thead>\n",
              "    <tr style=\"text-align: right;\">\n",
              "      <th></th>\n",
              "      <th>rating</th>\n",
              "      <th>price</th>\n",
              "      <th>model</th>\n",
              "      <th>RAM</th>\n",
              "      <th>Storage</th>\n",
              "      <th>System</th>\n",
              "      <th>Other_Info</th>\n",
              "    </tr>\n",
              "  </thead>\n",
              "  <tbody>\n",
              "    <tr>\n",
              "      <th>0</th>\n",
              "      <td>4.0</td>\n",
              "      <td>23990</td>\n",
              "      <td>Acer One 14 Pentium Gold</td>\n",
              "      <td>4 GB</td>\n",
              "      <td>1 TB HDD</td>\n",
              "      <td>Windows 10 Home</td>\n",
              "      <td>Z2-485 Thin and Light Laptop</td>\n",
              "    </tr>\n",
              "    <tr>\n",
              "      <th>5</th>\n",
              "      <td>4.0</td>\n",
              "      <td>42990</td>\n",
              "      <td>Asus VivoBook 15 Core i5 10th Gen</td>\n",
              "      <td>8 GB</td>\n",
              "      <td>1 TB HDD</td>\n",
              "      <td>Windows 10 Home</td>\n",
              "      <td>X515JA-EJ501T Thin and Light Lapto...</td>\n",
              "    </tr>\n",
              "    <tr>\n",
              "      <th>11</th>\n",
              "      <td>4.0</td>\n",
              "      <td>24990</td>\n",
              "      <td>Lenovo Ideapad S145 APU Dual Core A6 A6</td>\n",
              "      <td>4 GB</td>\n",
              "      <td>1 TB HDD</td>\n",
              "      <td>Windows 10 Home</td>\n",
              "      <td>S145-15AST Thin and Lig...</td>\n",
              "    </tr>\n",
              "    <tr>\n",
              "      <th>12</th>\n",
              "      <td>4.0</td>\n",
              "      <td>23990</td>\n",
              "      <td>HP 15s Celeron Dual Core</td>\n",
              "      <td>4 GB</td>\n",
              "      <td>1 TB HDD</td>\n",
              "      <td>Windows 10 Home</td>\n",
              "      <td>15s-du1044tu Thin and Light Laptop</td>\n",
              "    </tr>\n",
              "    <tr>\n",
              "      <th>16</th>\n",
              "      <td>4.0</td>\n",
              "      <td>25990</td>\n",
              "      <td>Lenovo Ideapad 3 Athlon Dual Core 3050U</td>\n",
              "      <td>4 GB</td>\n",
              "      <td>1 TB HDD</td>\n",
              "      <td>Windows 10 Home</td>\n",
              "      <td>15ADA05 Laptop</td>\n",
              "    </tr>\n",
              "    <tr>\n",
              "      <th>19</th>\n",
              "      <td>3.7</td>\n",
              "      <td>26990</td>\n",
              "      <td>LifeDigital Zed Core i3 5th Gen</td>\n",
              "      <td>4 GB</td>\n",
              "      <td>1 TB HDD</td>\n",
              "      <td>256 GB SSD/Windows 10 Home</td>\n",
              "      <td>Zed AIR CX3 Thin and Ligh...</td>\n",
              "    </tr>\n",
              "    <tr>\n",
              "      <th>20</th>\n",
              "      <td>3.8</td>\n",
              "      <td>33490</td>\n",
              "      <td>Lenovo Ideapad 3 Core i3 10th Gen</td>\n",
              "      <td>4 GB</td>\n",
              "      <td>1 TB HDD</td>\n",
              "      <td>Windows 10 Home</td>\n",
              "      <td>81weideapad 3 15iil05 Laptop</td>\n",
              "    </tr>\n",
              "    <tr>\n",
              "      <th>22</th>\n",
              "      <td>3.9</td>\n",
              "      <td>21990</td>\n",
              "      <td>Asus Celeron Dual Core</td>\n",
              "      <td>4 GB</td>\n",
              "      <td>1 TB HDD</td>\n",
              "      <td>Windows 10 Home</td>\n",
              "      <td>X543MA-GQ1015T Laptop</td>\n",
              "    </tr>\n",
              "  </tbody>\n",
              "</table>\n",
              "</div>"
            ],
            "text/plain": [
              "    rating  price                                     model   RAM   Storage  \\\n",
              "0      4.0  23990                 Acer One 14 Pentium Gold   4 GB  1 TB HDD   \n",
              "5      4.0  42990        Asus VivoBook 15 Core i5 10th Gen   8 GB  1 TB HDD   \n",
              "11     4.0  24990   Lenovo Ideapad S145 APU Dual Core A6 A6  4 GB  1 TB HDD   \n",
              "12     4.0  23990                 HP 15s Celeron Dual Core   4 GB  1 TB HDD   \n",
              "16     4.0  25990  Lenovo Ideapad 3 Athlon Dual Core 3050U   4 GB  1 TB HDD   \n",
              "19     3.7  26990          LifeDigital Zed Core i3 5th Gen   4 GB  1 TB HDD   \n",
              "20     3.8  33490        Lenovo Ideapad 3 Core i3 10th Gen   4 GB  1 TB HDD   \n",
              "22     3.9  21990                   Asus Celeron Dual Core   4 GB  1 TB HDD   \n",
              "\n",
              "                        System                              Other_Info  \n",
              "0              Windows 10 Home            Z2-485 Thin and Light Laptop  \n",
              "5              Windows 10 Home   X515JA-EJ501T Thin and Light Lapto...  \n",
              "11             Windows 10 Home              S145-15AST Thin and Lig...  \n",
              "12             Windows 10 Home      15s-du1044tu Thin and Light Laptop  \n",
              "16             Windows 10 Home                          15ADA05 Laptop  \n",
              "19  256 GB SSD/Windows 10 Home            Zed AIR CX3 Thin and Ligh...  \n",
              "20             Windows 10 Home            81weideapad 3 15iil05 Laptop  \n",
              "22             Windows 10 Home                   X543MA-GQ1015T Laptop  "
            ]
          },
          "execution_count": 34,
          "metadata": {},
          "output_type": "execute_result"
        }
      ]
    },
    {
      "cell_type": "code",
      "metadata": {
        "id": "toaGdITP9Ncr",
        "outputId": "dcd0ea6e-5340-476b-8cca-9f279d1476b1"
      },
      "source": [
        "#completa"
      ],
      "execution_count": null,
      "outputs": [
        {
          "data": {
            "text/html": [
              "<div>\n",
              "<style scoped>\n",
              "    .dataframe tbody tr th:only-of-type {\n",
              "        vertical-align: middle;\n",
              "    }\n",
              "\n",
              "    .dataframe tbody tr th {\n",
              "        vertical-align: top;\n",
              "    }\n",
              "\n",
              "    .dataframe thead th {\n",
              "        text-align: right;\n",
              "    }\n",
              "</style>\n",
              "<table border=\"1\" class=\"dataframe\">\n",
              "  <thead>\n",
              "    <tr style=\"text-align: right;\">\n",
              "      <th></th>\n",
              "      <th>rating</th>\n",
              "      <th>price</th>\n",
              "      <th>model</th>\n",
              "      <th>RAM</th>\n",
              "      <th>Storage</th>\n",
              "      <th>System</th>\n",
              "      <th>Other_Info</th>\n",
              "    </tr>\n",
              "  </thead>\n",
              "  <tbody>\n",
              "    <tr>\n",
              "      <th>4</th>\n",
              "      <td>4.5</td>\n",
              "      <td>34990</td>\n",
              "      <td>Asus Core i3 10th Gen</td>\n",
              "      <td>8 GB</td>\n",
              "      <td>1 TB HDD</td>\n",
              "      <td>Windows 10 Home</td>\n",
              "      <td>X515JA-EJ321T Thin and Light Laptop</td>\n",
              "    </tr>\n",
              "    <tr>\n",
              "      <th>6</th>\n",
              "      <td>4.5</td>\n",
              "      <td>34990</td>\n",
              "      <td>HP 15s Ryzen 3 Dual Core 3250U</td>\n",
              "      <td>8 GB</td>\n",
              "      <td>1 TB HDD</td>\n",
              "      <td>Windows 10 Home</td>\n",
              "      <td>15s-GR0011AU Thin and Light Laptop</td>\n",
              "    </tr>\n",
              "  </tbody>\n",
              "</table>\n",
              "</div>"
            ],
            "text/plain": [
              "   rating  price                            model   RAM   Storage  \\\n",
              "4     4.5  34990           Asus Core i3 10th Gen   8 GB  1 TB HDD   \n",
              "6     4.5  34990  HP 15s Ryzen 3 Dual Core 3250U   8 GB  1 TB HDD   \n",
              "\n",
              "            System                            Other_Info  \n",
              "4  Windows 10 Home   X515JA-EJ321T Thin and Light Laptop  \n",
              "6  Windows 10 Home    15s-GR0011AU Thin and Light Laptop  "
            ]
          },
          "execution_count": 35,
          "metadata": {},
          "output_type": "execute_result"
        }
      ]
    },
    {
      "cell_type": "markdown",
      "metadata": {
        "id": "AtHkF8aa9Nct"
      },
      "source": [
        "---------\n",
        "\n",
        "### Visualización de los datos"
      ]
    },
    {
      "cell_type": "code",
      "metadata": {
        "id": "TpsFBl2y9Nct"
      },
      "source": [
        "#completa"
      ],
      "execution_count": null,
      "outputs": []
    },
    {
      "cell_type": "markdown",
      "metadata": {
        "id": "67YBT2k_9Nct"
      },
      "source": [
        "Realizaremos una gráfica de barras de precio vs rating"
      ]
    },
    {
      "cell_type": "code",
      "metadata": {
        "id": "i3stvTZZ9Nct",
        "outputId": "5eb406d2-e047-44d7-d5bb-18e6e20a4c65"
      },
      "source": [
        "#completa"
      ],
      "execution_count": null,
      "outputs": [
        {
          "data": {
            "text/plain": [
              "Text(0.5, 1.0, 'Precio vs Calificación')"
            ]
          },
          "execution_count": 37,
          "metadata": {},
          "output_type": "execute_result"
        },
        {
          "data": {
            "image/png": "[encoded data removed]",
            "text/plain": [
              "<Figure size 1440x720 with 1 Axes>"
            ]
          },
          "metadata": {
            "needs_background": "light"
          },
          "output_type": "display_data"
        }
      ]
    },
    {
      "cell_type": "code",
      "metadata": {
        "id": "n6IiyqWi9Ncu",
        "outputId": "f500a390-8374-42a9-f702-2419d160a06d"
      },
      "source": [
        "#completa"
      ],
      "execution_count": null,
      "outputs": [
        {
          "data": {
            "text/plain": [
              "Text(0.5, 1.0, 'Calificación vs Precio')"
            ]
          },
          "execution_count": 38,
          "metadata": {},
          "output_type": "execute_result"
        },
        {
          "data": {
            "image/png": "[encoded data removed]",
            "text/plain": [
              "<Figure size 1440x720 with 1 Axes>"
            ]
          },
          "metadata": {
            "needs_background": "light"
          },
          "output_type": "display_data"
        }
      ]
    },
    {
      "cell_type": "markdown",
      "metadata": {
        "id": "bv_SUsYo9Ncu"
      },
      "source": [
        "Podemos concluir a partir de aquí que los productos con precios más altos tienen calificaciones más altas hasta cierto punto."
      ]
    },
    {
      "cell_type": "code",
      "metadata": {
        "id": "9fnjtjLM9Ncu",
        "outputId": "e0575d7e-af7c-4412-bdb9-15785403e3a8"
      },
      "source": [
        "#completa"
      ],
      "execution_count": null,
      "outputs": [
        {
          "data": {
            "text/plain": [
              "Text(0.5, 1.0, 'Box plot')"
            ]
          },
          "execution_count": 39,
          "metadata": {},
          "output_type": "execute_result"
        },
        {
          "data": {
            "image/png": "[encoded data removed]",
            "text/plain": [
              "<Figure size 432x288 with 1 Axes>"
            ]
          },
          "metadata": {
            "needs_background": "light"
          },
          "output_type": "display_data"
        }
      ]
    },
    {
      "cell_type": "markdown",
      "metadata": {
        "id": "n9aDsbc-9Ncu"
      },
      "source": [
        "## ¿Les ha salido algún discordante visual a ustedes?"
      ]
    },
    {
      "cell_type": "code",
      "metadata": {
        "id": "TgeiYSOx9Ncv",
        "outputId": "71258871-a9eb-4c97-fc0d-32d7692c3859"
      },
      "source": [
        "#completa"
      ],
      "execution_count": null,
      "outputs": [
        {
          "data": {
            "text/html": [
              "<div>\n",
              "<style scoped>\n",
              "    .dataframe tbody tr th:only-of-type {\n",
              "        vertical-align: middle;\n",
              "    }\n",
              "\n",
              "    .dataframe tbody tr th {\n",
              "        vertical-align: top;\n",
              "    }\n",
              "\n",
              "    .dataframe thead th {\n",
              "        text-align: right;\n",
              "    }\n",
              "</style>\n",
              "<table border=\"1\" class=\"dataframe\">\n",
              "  <thead>\n",
              "    <tr style=\"text-align: right;\">\n",
              "      <th></th>\n",
              "      <th>rating</th>\n",
              "      <th>price</th>\n",
              "      <th>model</th>\n",
              "      <th>RAM</th>\n",
              "      <th>Storage</th>\n",
              "      <th>System</th>\n",
              "      <th>Other_Info</th>\n",
              "    </tr>\n",
              "  </thead>\n",
              "  <tbody>\n",
              "    <tr>\n",
              "      <th>1</th>\n",
              "      <td>4.4</td>\n",
              "      <td>121500</td>\n",
              "      <td>Apple MacBook Pro Core i5 8th Gen</td>\n",
              "      <td>8 GB</td>\n",
              "      <td>512 GB SSD</td>\n",
              "      <td>Mac OS Mojave</td>\n",
              "      <td>MV9A2HN</td>\n",
              "    </tr>\n",
              "    <tr>\n",
              "      <th>15</th>\n",
              "      <td>4.7</td>\n",
              "      <td>62690</td>\n",
              "      <td>Dell Inspiron 3501 Core i5 11th Gen</td>\n",
              "      <td>8 GB</td>\n",
              "      <td>1 TB HDD</td>\n",
              "      <td>256 GB SSD/Windows 10 Home/2 GB Graphics</td>\n",
              "      <td>Inspiro...</td>\n",
              "    </tr>\n",
              "    <tr>\n",
              "      <th>21</th>\n",
              "      <td>4.5</td>\n",
              "      <td>63990</td>\n",
              "      <td>Lenovo Legion Y540 Core i5 9th Gen</td>\n",
              "      <td>8 GB</td>\n",
              "      <td>1 TB HDD</td>\n",
              "      <td>256 GB SSD/Windows 10 Home/4 GB Graphics/NVIDI...</td>\n",
              "      <td>NaN</td>\n",
              "    </tr>\n",
              "    <tr>\n",
              "      <th>23</th>\n",
              "      <td>4.3</td>\n",
              "      <td>61990</td>\n",
              "      <td>Dell Inspiron Core i5 10th Gen</td>\n",
              "      <td>8 GB</td>\n",
              "      <td>512 GB SSD</td>\n",
              "      <td>Windows 10 Home</td>\n",
              "      <td>Ins 5408 Thin and Light Laptop</td>\n",
              "    </tr>\n",
              "  </tbody>\n",
              "</table>\n",
              "</div>"
            ],
            "text/plain": [
              "    rating   price                                 model   RAM     Storage  \\\n",
              "1      4.4  121500    Apple MacBook Pro Core i5 8th Gen   8 GB  512 GB SSD   \n",
              "15     4.7   62690  Dell Inspiron 3501 Core i5 11th Gen   8 GB    1 TB HDD   \n",
              "21     4.5   63990   Lenovo Legion Y540 Core i5 9th Gen   8 GB    1 TB HDD   \n",
              "23     4.3   61990       Dell Inspiron Core i5 10th Gen   8 GB  512 GB SSD   \n",
              "\n",
              "                                               System  \\\n",
              "1                                       Mac OS Mojave   \n",
              "15           256 GB SSD/Windows 10 Home/2 GB Graphics   \n",
              "21  256 GB SSD/Windows 10 Home/4 GB Graphics/NVIDI...   \n",
              "23                                    Windows 10 Home   \n",
              "\n",
              "                         Other_Info  \n",
              "1                           MV9A2HN  \n",
              "15                       Inspiro...  \n",
              "21                              NaN  \n",
              "23   Ins 5408 Thin and Light Laptop  "
            ]
          },
          "execution_count": 40,
          "metadata": {},
          "output_type": "execute_result"
        }
      ]
    },
    {
      "cell_type": "markdown",
      "metadata": {
        "id": "1MKeaoQt9Ncv"
      },
      "source": [
        "### ¿Para ustedes, cuáles fueron las computadoras más caras?"
      ]
    },
    {
      "cell_type": "code",
      "metadata": {
        "id": "RjN3H-Vh9Ncv"
      },
      "source": [
        ""
      ],
      "execution_count": null,
      "outputs": []
    },
    {
      "cell_type": "markdown",
      "metadata": {
        "id": "BbMrdcJq9Ncw"
      },
      "source": [
        "----\n",
        "----\n",
        "----\n",
        "\n",
        "<h1><center>Monte Carlo</center><h1>\n",
        "\n",
        "### ¿Por qué la casa siempre gana?\n",
        "\n",
        "¿Cómo ganan dinero los casinos? El truco es sencillo: \"Cuanto más juegas, más ganan\". Echemos un vistazo a cómo funciona esto con un ejemplo simple de simulación de Monte Carlo.\n",
        "\n",
        "----\n",
        "\n",
        "Considere un juego imaginario en el que un jugador tiene que elegir una ficha de una bolsa de fichas.\n",
        "\n",
        "Reglas:\n",
        " * Hay fichas que contienen números que van del 1 al 100 en una bolsa.\n",
        " * Los usuarios pueden apostar en fichas pares o impares.\n",
        " * En este juego, el 10 y el 11 son números especiales. Si apostamos a pares, entonces 10 se contará como un número impar, y si apostamos a las probabilidades, entonces 11 se contará como un número par.\n",
        " * Si apostamos a números pares y obtenemos 10, perdemos.\n",
        " * Si apostamos a números impares y obtenemos 11, perdemos."
      ]
    },
    {
      "cell_type": "markdown",
      "metadata": {
        "id": "V8sQZxRl9Ncw"
      },
      "source": [
        "Si apostamos por las probabilidades, la probabilidad de que ganemos es de 49/100. \n",
        "\n",
        "---\n",
        "\n",
        "La probabilidad de que la casa gane es de 51/100. \n",
        "\n",
        "---"
      ]
    },
    {
      "cell_type": "markdown",
      "metadata": {
        "id": "K3hmA92c9Ncw"
      },
      "source": [
        "### Importamos librerías"
      ]
    },
    {
      "cell_type": "code",
      "metadata": {
        "id": "9OWgpr5J9Ncw"
      },
      "source": [
        "import random\n",
        "import matplotlib.pyplot as plt"
      ],
      "execution_count": null,
      "outputs": []
    },
    {
      "cell_type": "markdown",
      "metadata": {
        "id": "WPdQXvsf9Ncw"
      },
      "source": [
        "### Creación de las apuestas del jugador"
      ]
    },
    {
      "cell_type": "code",
      "metadata": {
        "id": "zdUQIj5R9Ncx"
      },
      "source": [
        "#Player bet\n",
        "choice = input(\"Deseas apostar a pares o impares? \\n\")\n",
        "\n",
        "#Pares\n",
        "if choice == \"Par\":\n",
        "    def pickNote():\n",
        "        note = random.randint(1,100)\n",
        "        #completa\n",
        "            return False\n",
        "        #completa\n",
        "            return True\n",
        "\n",
        "elif choice == \"Odd\":\n",
        "    def pickNote():\n",
        "        #completa"
      ],
      "execution_count": null,
      "outputs": []
    },
    {
      "cell_type": "markdown",
      "metadata": {
        "id": "YlDx3_p_9Ncx"
      },
      "source": [
        "### Función principal"
      ]
    },
    {
      "cell_type": "code",
      "metadata": {
        "id": "9yYh2TTY9Ncy"
      },
      "source": [
        "def play(total_money, bet_money, total_plays):\n",
        "    num_plays=[]\n",
        "    money=[]\n",
        "\n",
        "    play = 1\n",
        "    \n",
        "    for play in range(total_plays):\n",
        "        if pickNote():\n",
        "            total_money = total_money + bet_money\n",
        "            num_plays.#completa\n",
        "            money.append#completa\n",
        "            \n",
        "        else:\n",
        "            #completa\n",
        "    \n",
        "    plt.ylabel(\"Dinero en $\")\n",
        "    plt.xlabel(\"Numero de apuestas\")\n",
        "    plt.plot(#completa, #completa)\n",
        "    \n",
        "    final_funds.append(money[-1])\n",
        "    return(final_funds)"
      ],
      "execution_count": null,
      "outputs": []
    },
    {
      "cell_type": "markdown",
      "metadata": {
        "id": "xFUeVN2G9Ncy"
      },
      "source": [
        "### Resultado final"
      ]
    },
    {
      "cell_type": "code",
      "metadata": {
        "id": "RHEw4YCk9Ncy"
      },
      "source": [
        "final_funds = []\n",
        "for i in range(10):\n",
        "    ending_fund = play(10000, 100, 50)\n",
        "    \n",
        "print(ending_fund)\n",
        "print(sum(ending_fund))\n",
        "\n",
        "print(\"El jugador empezó con $10,000\")\n",
        "print(\"El jugador se fue con $\", str(sum(ending_fund)/len(ending_fund)))"
      ],
      "execution_count": null,
      "outputs": []
    },
    {
      "cell_type": "markdown",
      "metadata": {
        "id": "4G6t1Ccf9Ncy"
      },
      "source": [
        "## Ahora, para un total de apuestas de 5, 10 y 1000...."
      ]
    },
    {
      "cell_type": "markdown",
      "metadata": {
        "id": "e16wy6V-9Ncz"
      },
      "source": [
        "### Ahora para mil iteraciones"
      ]
    },
    {
      "cell_type": "code",
      "metadata": {
        "id": "QVUwKVBF9Ncz"
      },
      "source": [
        " #completa"
      ],
      "execution_count": null,
      "outputs": []
    },
    {
      "cell_type": "code",
      "metadata": {
        "id": "YoM8modO9Nc0"
      },
      "source": [
        " #completa"
      ],
      "execution_count": null,
      "outputs": []
    },
    {
      "cell_type": "code",
      "metadata": {
        "id": "P1LGzNpn9Nc0"
      },
      "source": [
        " #completa"
      ],
      "execution_count": null,
      "outputs": []
    },
    {
      "cell_type": "markdown",
      "metadata": {
        "id": "Mpp_d8gb9Nc0"
      },
      "source": [
        "### ¿Qué conclusiones puedes inferir a partir del ejercicio anterior?"
      ]
    },
    {
      "cell_type": "code",
      "metadata": {
        "id": "H0gX7Gar9Nc0"
      },
      "source": [
        ""
      ],
      "execution_count": null,
      "outputs": []
    },
    {
      "cell_type": "markdown",
      "metadata": {
        "id": "G9m2BKkN9Nc1"
      },
      "source": [
        "----\n",
        "\n",
        "Tenga en cuenta que estos porcentajes son para nuestro juego figurativo y pueden modificarse....\n",
        "\n",
        "\n",
        "-------\n",
        "\n",
        "Al igual que con cualquier modelo de pronóstico, la simulación solo será tan buena como las estimaciones que hagamos. Es importante recordar que la simulación de Monte Carlo solo representa probabilidades y no certeza. Sin embargo, la simulación de Monte Carlo puede ser una herramienta valiosa a la hora de pronosticar un futuro desconocido."
      ]
    }
  ]
}